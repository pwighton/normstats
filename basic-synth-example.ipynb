{
 "cells": [
  {
   "cell_type": "code",
   "execution_count": 20,
   "id": "5e87b5ab-f91d-4c81-839c-de84498de361",
   "metadata": {},
   "outputs": [],
   "source": [
    "import logging\n",
    "import sys\n",
    "from normstats import *\n",
    "np.set_printoptions(suppress=True)\n",
    "\n",
    "logging.basicConfig(\n",
    "    level=logging.DEBUG,\n",
    "    format='%(asctime)s - %(name)s - %(funcName)s - %(levelname)s - %(message)s',\n",
    "    stream=sys.stdout,\n",
    "    force=True\n",
    ")\n",
    "logger = logging.getLogger(__name__)\n",
    "\n",
    "# For reproducibility\n",
    "np.random.seed(abs(hash(\"giraffes are cool\"))%(2**32 - 1))"
   ]
  },
  {
   "cell_type": "code",
   "execution_count": 53,
   "id": "bf5af101-793c-4d64-a8c6-a6e06e20120c",
   "metadata": {},
   "outputs": [],
   "source": [
    "# Parameters for normative synthetic data generation\n",
    "\n",
    "# number of samples\n",
    "n = 50\n",
    "# number of ind vars\n",
    "k = 1\n",
    "# number of dep vars\n",
    "m = 1\n",
    "# std_dev of noise\n",
    "S_YdotX_actual = np.random.uniform(0.01, 0.02, size=(m))\n",
    "\n",
    "# B (model params) will be chosen randomly from this range\n",
    "B_range = (1000, 1005)\n",
    "#B_actual = np.random.randint(B_range[0], B_range[1], size=(m, k+1))\n",
    "B_actual = np.random.uniform(B_range[0], B_range[1], size=(m, k+1))\n",
    "        \n",
    "# X (ind vars) will be chosen randomly from this range\n",
    "X_range = (1,20)\n",
    "X_are_ints = True"
   ]
  },
  {
   "cell_type": "code",
   "execution_count": 54,
   "id": "4b81f093-ff09-4a5f-a146-09c2876a4ebc",
   "metadata": {},
   "outputs": [
    {
     "name": "stdout",
     "output_type": "stream",
     "text": [
      "2025-05-28 15:17:22,592 - normstats - gen_synth_norm_data - DEBUG - n: 50\n",
      "2025-05-28 15:17:22,592 - normstats - gen_synth_norm_data - DEBUG - X_are_ints: True\n",
      "2025-05-28 15:17:22,593 - normstats - gen_synth_norm_data - DEBUG - m: 1\n",
      "2025-05-28 15:17:22,593 - normstats - gen_synth_norm_data - DEBUG - k: 1\n",
      "2025-05-28 15:17:22,593 - normstats - gen_synth_norm_data - DEBUG - X.shape: (1, 50)\n",
      "2025-05-28 15:17:22,594 - normstats - gen_synth_norm_data - DEBUG - S_YdotX.shape: (1,)\n",
      "2025-05-28 15:17:22,594 - normstats - z_normalize - DEBUG - X.shape: (1, 50)\n",
      "2025-05-28 15:17:22,594 - normstats - z_normalize - DEBUG - n: 50\n",
      "2025-05-28 15:17:22,595 - normstats - z_normalize - DEBUG - X_mean.shape: (1, 1)\n",
      "2025-05-28 15:17:22,595 - normstats - z_normalize - DEBUG - X_std.shape: (1, 1)\n",
      "2025-05-28 15:17:22,596 - normstats - z_normalize - DEBUG - Z.shape: (1, 50)\n",
      "2025-05-28 15:17:22,596 - normstats - z_normalize - DEBUG - Z_1.shape: (2, 50)\n",
      "2025-05-28 15:17:22,597 - normstats - gen_synth_norm_data - DEBUG - epislon.shape: (1, 50)\n",
      "2025-05-28 15:17:22,597 - normstats - gen_synth_norm_data - DEBUG - Y.shape: (1, 50)\n",
      "2025-05-28 15:17:22,597 - normstats - estimate_model_params - DEBUG - X.shape: (1, 50)\n",
      "2025-05-28 15:17:22,598 - normstats - estimate_model_params - DEBUG - Y.shape: (1, 50)\n",
      "2025-05-28 15:17:22,598 - normstats - z_normalize - DEBUG - X.shape: (1, 50)\n",
      "2025-05-28 15:17:22,598 - normstats - z_normalize - DEBUG - n: 50\n",
      "2025-05-28 15:17:22,599 - normstats - z_normalize - DEBUG - X_mean.shape: (1, 1)\n",
      "2025-05-28 15:17:22,599 - normstats - z_normalize - DEBUG - X_std.shape: (1, 1)\n",
      "2025-05-28 15:17:22,599 - normstats - z_normalize - DEBUG - Z.shape: (1, 50)\n",
      "2025-05-28 15:17:22,599 - normstats - z_normalize - DEBUG - Z_1.shape: (2, 50)\n",
      "2025-05-28 15:17:22,600 - normstats - estimate_model_params - DEBUG - B_estimate.shape: (1, 2)\n",
      "2025-05-28 15:17:22,600 - normstats - estimate_model_params - DEBUG - S_YdotX_estimate.shape: (1, 1)\n",
      "2025-05-28 15:17:22,600 - normstats - estimate_model_params - DEBUG - R.shape: (1, 1)\n"
     ]
    }
   ],
   "source": [
    "# Generate synthetic normative dataset\n",
    "X, Y, epsilon_actual = gen_synth_norm_data(B_actual, n, S_YdotX_actual, X_range, X_are_ints=X_are_ints)\n",
    "\n",
    "# estimate model params from synthetic dataset\n",
    "B_estimate, S_YdotX_estimate, R, X_mean, X_std = estimate_model_params(X,Y)"
   ]
  },
  {
   "cell_type": "code",
   "execution_count": 55,
   "id": "31936ca7-68bf-4a66-8af2-fb4580de936a",
   "metadata": {
    "scrolled": true
   },
   "outputs": [
    {
     "name": "stdout",
     "output_type": "stream",
     "text": [
      "B_actual:\n",
      "[[1004.21703588 1002.62968104]]\n",
      "\n",
      "B_estimate\n",
      "[[1004.21933473 1002.63074176]]\n",
      "\n",
      "S_YdotX_actual:\n",
      "[0.01723041]\n",
      "\n",
      "S_YdotX_estimate:\n",
      "[[0.01564461]]\n"
     ]
    }
   ],
   "source": [
    "print('B_actual:')\n",
    "print(B_actual)\n",
    "print()\n",
    "print('B_estimate')\n",
    "print(B_estimate)\n",
    "print()\n",
    "print('S_YdotX_actual:')\n",
    "print(S_YdotX_actual)\n",
    "print()\n",
    "print('S_YdotX_estimate:')\n",
    "print(S_YdotX_estimate)"
   ]
  },
  {
   "cell_type": "code",
   "execution_count": 56,
   "id": "07138ec1-592b-4604-bc88-8395f90df39a",
   "metadata": {},
   "outputs": [
    {
     "data": {
      "text/plain": [
       "(1,)"
      ]
     },
     "execution_count": 56,
     "metadata": {},
     "output_type": "execute_result"
    }
   ],
   "source": [
    "S_YdotX_actual.shape"
   ]
  },
  {
   "cell_type": "code",
   "execution_count": 57,
   "id": "d665cac9-7fb1-43fe-afa6-cec6fd800c25",
   "metadata": {},
   "outputs": [
    {
     "name": "stdout",
     "output_type": "stream",
     "text": [
      "2025-05-28 15:17:31,543 - normstats - gen_synth_sub_data - DEBUG - X_are_ints: True\n",
      "2025-05-28 15:17:31,543 - normstats - gen_synth_sub_data - DEBUG - n: 1\n",
      "2025-05-28 15:17:31,544 - normstats - gen_synth_sub_data - DEBUG - m: 1\n",
      "2025-05-28 15:17:31,544 - normstats - gen_synth_sub_data - DEBUG - k: 1\n",
      "2025-05-28 15:17:31,545 - normstats - z_normalize - DEBUG - X.shape: (1, 1)\n",
      "2025-05-28 15:17:31,545 - normstats - z_normalize - DEBUG - n: 1\n",
      "2025-05-28 15:17:31,545 - normstats - z_normalize - DEBUG - X_mean.shape: (1, 1)\n",
      "2025-05-28 15:17:31,545 - normstats - z_normalize - DEBUG - X_std.shape: (1, 1)\n",
      "2025-05-28 15:17:31,545 - normstats - z_normalize - DEBUG - Z.shape: (1, 1)\n",
      "2025-05-28 15:17:31,546 - normstats - z_normalize - DEBUG - Z_1.shape: (2, 1)\n"
     ]
    }
   ],
   "source": [
    "# Generate a single perfectly median subject\n",
    "x_obs, y_obs = gen_synth_sub_data(B_actual, 1, 0.0, X_range, X_mean, X_std, X_are_ints=X_are_ints)"
   ]
  },
  {
   "cell_type": "code",
   "execution_count": 58,
   "id": "271fdf7f-b535-49f1-bb9d-5b71f0d4e575",
   "metadata": {},
   "outputs": [
    {
     "name": "stdout",
     "output_type": "stream",
     "text": [
      "2025-05-28 15:17:32,839 - normstats - single_subject_eval - DEBUG - m: 1\n",
      "2025-05-28 15:17:32,840 - normstats - single_subject_eval - DEBUG - k: 1\n",
      "2025-05-28 15:17:32,840 - normstats - z_normalize - DEBUG - X.shape: (1, 1)\n",
      "2025-05-28 15:17:32,840 - normstats - z_normalize - DEBUG - n: 1\n",
      "2025-05-28 15:17:32,841 - normstats - z_normalize - DEBUG - X_mean.shape: (1, 1)\n",
      "2025-05-28 15:17:32,841 - normstats - z_normalize - DEBUG - X_std.shape: (1, 1)\n",
      "2025-05-28 15:17:32,841 - normstats - z_normalize - DEBUG - Z.shape: (1, 1)\n",
      "2025-05-28 15:17:32,841 - normstats - z_normalize - DEBUG - Z_1.shape: (2, 1)\n",
      "2025-05-28 15:17:32,842 - normstats - single_subject_eval - DEBUG - r_A: 0.0007731751281916654\n",
      "2025-05-28 15:17:32,842 - normstats - single_subject_eval - DEBUG - r_B: 0.0\n",
      "2025-05-28 15:17:32,842 - normstats - single_subject_eval - DEBUG - S_Nplus1: [[0.0158004]]\n",
      "2025-05-28 15:17:32,843 - normstats - single_subject_eval - DEBUG - t_diff: [[-0.09573926]]\n",
      "2025-05-28 15:17:32,843 - normstats - single_subject_eval - DEBUG - tau: [[1]]\n",
      "2025-05-28 15:17:32,843 - normstats - single_subject_eval - DEBUG - c: [[-0.09669267]]\n",
      "2025-05-28 15:17:32,844 - normstats - single_subject_eval - DEBUG - theta: 0.02001577908424881\n",
      "2025-05-28 15:17:32,844 - normstats - single_subject_eval - DEBUG - df: 49\n",
      "2025-05-28 15:17:32,844 - normstats - single_subject_eval - DEBUG - nct_stat:  -0.6834508436242758\n",
      "2025-05-28 15:17:32,844 - nct - nct_cdf_solve_for_nc - DEBUG - bounds are: (-5, 5)\n",
      "2025-05-28 15:17:32,846 - nct - nct_cdf_solve_for_nc - DEBUG - result: -2.6445940981931475\n",
      "2025-05-28 15:17:32,847 - nct - nct_cdf_solve_for_nc - DEBUG - objective: 2.220446049250313e-16\n",
      "2025-05-28 15:17:32,847 - nct - nct_cdf_solve_for_nc - DEBUG - bounds are: (-5, 5)\n",
      "2025-05-28 15:17:32,848 - nct - nct_cdf_solve_for_nc - DEBUG - result: 1.2846166669213657\n",
      "2025-05-28 15:17:32,848 - nct - nct_cdf_solve_for_nc - DEBUG - objective: -9.832412661836543e-15\n"
     ]
    }
   ],
   "source": [
    "p, p_ci = single_subject_eval(x_obs, y_obs, B_estimate, R, S_YdotX_estimate, n, X_mean, X_std)"
   ]
  },
  {
   "cell_type": "code",
   "execution_count": 59,
   "id": "eae30501-de44-42e7-9490-9d87e1414421",
   "metadata": {},
   "outputs": [
    {
     "name": "stdout",
     "output_type": "stream",
     "text": [
      "p\n",
      "[0.46205907]\n",
      "lower confidence interval of p\n",
      "[0.35414651]\n",
      "upper confidence interval of p\n",
      "[0.57210814]\n"
     ]
    }
   ],
   "source": [
    "# Should be ~0.5 since it's a perfectly median subject\n",
    "print('p')\n",
    "print(p[:,0])\n",
    "print('lower confidence interval of p')\n",
    "print(p_ci[:,0])\n",
    "print('upper confidence interval of p')\n",
    "print(p_ci[:,1])"
   ]
  },
  {
   "cell_type": "code",
   "execution_count": null,
   "id": "01a7f21b-d0ad-4334-b60d-89954bb492d1",
   "metadata": {},
   "outputs": [],
   "source": []
  },
  {
   "cell_type": "code",
   "execution_count": null,
   "id": "47f0c36f-83dc-406b-9376-2ea58792496d",
   "metadata": {},
   "outputs": [],
   "source": []
  }
 ],
 "metadata": {
  "kernelspec": {
   "display_name": "Python 3 (ipykernel)",
   "language": "python",
   "name": "python3"
  },
  "language_info": {
   "codemirror_mode": {
    "name": "ipython",
    "version": 3
   },
   "file_extension": ".py",
   "mimetype": "text/x-python",
   "name": "python",
   "nbconvert_exporter": "python",
   "pygments_lexer": "ipython3",
   "version": "3.12.9"
  }
 },
 "nbformat": 4,
 "nbformat_minor": 5
}
