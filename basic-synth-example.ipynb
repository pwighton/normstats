{
 "cells": [
  {
   "cell_type": "code",
   "execution_count": 1,
   "id": "5e87b5ab-f91d-4c81-839c-de84498de361",
   "metadata": {},
   "outputs": [],
   "source": [
    "# Imports:\n",
    "#  - z_normalize(X, X_mean=None, X_std=None)\n",
    "#  - gen_synth_norm_data(B,n=100,S_YdotX=None,X_range=(0,10),X_are_ints=True)\n",
    "#  - estimate_model_params(X,Y)\n",
    "#  - gen_synth_sub_data(B, n, epsilon, X_range, X_mean, X_std, X_are_ints=True)\n",
    "#  - single_subject_eval(x_obs, y_obs, B, R, S_YdotX, X_mean, X_std)\n",
    "\n",
    "from normstats import *\n",
    "np.set_printoptions(suppress=True)"
   ]
  },
  {
   "cell_type": "code",
   "execution_count": 2,
   "id": "bf5af101-793c-4d64-a8c6-a6e06e20120c",
   "metadata": {},
   "outputs": [],
   "source": [
    "# Parameters for normative synthetic data generation\n",
    "\n",
    "# number of samples\n",
    "n = 1000\n",
    "# number of ind vars\n",
    "k = 3\n",
    "# number of dep vars\n",
    "m = 2\n",
    "# std_dev of noise\n",
    "S_YdotX_actual = np.random.uniform(1.0, 2.0, size=(m))\n",
    "\n",
    "# B (model params) will be chosen randomly from this range\n",
    "B_range = (100, 200)\n",
    "B_actual = np.random.randint(B_range[0], B_range[1], size=(m, k+1))\n",
    "#B = np.random.uniform(B_range[0], B_range[1], size=(m, k+1))\n",
    "        \n",
    "# X (ind vars) will be chosen randomly from this range\n",
    "X_range = (1,20)\n",
    "X_are_ints = True"
   ]
  },
  {
   "cell_type": "code",
   "execution_count": 3,
   "id": "4b81f093-ff09-4a5f-a146-09c2876a4ebc",
   "metadata": {},
   "outputs": [],
   "source": [
    "# Generate synthetic normative dataset\n",
    "X, Y, epsilon_actual = gen_synth_norm_data(B_actual, n, S_YdotX_actual, X_range, X_are_ints=X_are_ints)\n",
    "\n",
    "# estimate model params from synthetic dataset\n",
    "B_estimate, S_YdotX_estimate, R, X_mean, X_std = estimate_model_params(X,Y)"
   ]
  },
  {
   "cell_type": "code",
   "execution_count": 4,
   "id": "31936ca7-68bf-4a66-8af2-fb4580de936a",
   "metadata": {
    "scrolled": true
   },
   "outputs": [
    {
     "name": "stdout",
     "output_type": "stream",
     "text": [
      "B_actual:\n",
      "[[142 102 106 167]\n",
      " [105 150 106 182]]\n",
      "\n",
      "B_estimate\n",
      "[[141.96951796 102.02249235 105.96064707 167.03355208]\n",
      " [104.98130888 150.01068629 106.00275257 182.03398295]]\n",
      "\n",
      "S_YdotX_actual\n",
      "[1.16075062 1.21386225]\n",
      "\n",
      "S_YdotX_estimate\n",
      "[1.15499449 1.23741014]\n"
     ]
    }
   ],
   "source": [
    "print('B_actual:')\n",
    "print(B_actual)\n",
    "print()\n",
    "print('B_estimate')\n",
    "print(B_estimate)\n",
    "print()\n",
    "print('S_YdotX_actual')\n",
    "print(S_YdotX_actual)\n",
    "print()\n",
    "print('S_YdotX_estimate')\n",
    "print(S_YdotX_estimate)"
   ]
  },
  {
   "cell_type": "code",
   "execution_count": 5,
   "id": "d665cac9-7fb1-43fe-afa6-cec6fd800c25",
   "metadata": {},
   "outputs": [],
   "source": [
    "# Generate a single perfectly median subject\n",
    "x_obs, y_obs = gen_synth_sub_data(B_actual, 1, 0.0, X_range, X_mean, X_std, X_are_ints=X_are_ints)"
   ]
  },
  {
   "cell_type": "code",
   "execution_count": 6,
   "id": "f1ed9d30-0e2c-4704-aa5e-c621d75a8849",
   "metadata": {},
   "outputs": [
    {
     "name": "stdout",
     "output_type": "stream",
     "text": [
      "[[ 7]\n",
      " [ 7]\n",
      " [19]]\n",
      "[[192.37643685]\n",
      " [200.90868642]]\n",
      "[1.15499449 1.23741014]\n"
     ]
    }
   ],
   "source": [
    "print(x_obs)\n",
    "print(y_obs)\n",
    "print(S_YdotX_estimate)"
   ]
  },
  {
   "cell_type": "code",
   "execution_count": 7,
   "id": "271fdf7f-b535-49f1-bb9d-5b71f0d4e575",
   "metadata": {},
   "outputs": [],
   "source": [
    "p, t_diff = single_subject_eval(x_obs, y_obs, B_estimate, R, S_YdotX_estimate, n, X_mean, X_std)"
   ]
  },
  {
   "cell_type": "code",
   "execution_count": 8,
   "id": "eae30501-de44-42e7-9490-9d87e1414421",
   "metadata": {},
   "outputs": [
    {
     "name": "stdout",
     "output_type": "stream",
     "text": [
      "p: [[0.5084326  0.48612612]]\n"
     ]
    }
   ],
   "source": [
    "print(f'p: {p}')"
   ]
  }
 ],
 "metadata": {
  "kernelspec": {
   "display_name": "Python 3 (ipykernel)",
   "language": "python",
   "name": "python3"
  },
  "language_info": {
   "codemirror_mode": {
    "name": "ipython",
    "version": 3
   },
   "file_extension": ".py",
   "mimetype": "text/x-python",
   "name": "python",
   "nbconvert_exporter": "python",
   "pygments_lexer": "ipython3",
   "version": "3.12.9"
  }
 },
 "nbformat": 4,
 "nbformat_minor": 5
}
