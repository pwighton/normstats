{
 "cells": [
  {
   "cell_type": "code",
   "execution_count": 1,
   "id": "5e87b5ab-f91d-4c81-839c-de84498de361",
   "metadata": {},
   "outputs": [],
   "source": [
    "import logging\n",
    "import sys\n",
    "from normstats import *\n",
    "np.set_printoptions(suppress=True)\n",
    "\n",
    "logging.basicConfig(\n",
    "    # Change the logging level to DEBUG to get a lot more verbosity\n",
    "    #level=logging.DEBUG,\n",
    "    level=logging.WARN,\n",
    "    format='%(asctime)s - %(name)s - %(funcName)s - %(levelname)s - %(message)s',\n",
    "    stream=sys.stdout,\n",
    "    force=True\n",
    ")\n",
    "logger = logging.getLogger(__name__)\n",
    "\n",
    "# For reproducibility\n",
    "np.random.seed(abs(hash(\"giraffes are cool\"))%(2**32))"
   ]
  },
  {
   "cell_type": "code",
   "execution_count": 2,
   "id": "bf5af101-793c-4d64-a8c6-a6e06e20120c",
   "metadata": {},
   "outputs": [],
   "source": [
    "# Parameters for normative synthetic data generation\n",
    "\n",
    "# number of samples\n",
    "n = 100\n",
    "# number of ind vars\n",
    "k = 3\n",
    "# number of dep vars\n",
    "m = 2\n",
    "\n",
    "# std_dev of noise will be chosen randomly from this range\n",
    "#noise_range = (10.0, 20.0)\n",
    "# B (model params) will be chosen randomly from this range\n",
    "B_range = (10, 20)\n",
    "# X (ind vars) will be chosen randomly from this range\n",
    "X_range = (1,20)\n",
    "# X (ind vars) for single subject to evaluate will be chosen randomly from this range\n",
    "X_range_syth = (5,15)\n",
    "# X (ind vars) will be integers or floats?\n",
    "X_are_ints = True\n",
    "\n",
    "# The actual standard deviation of the model residual, used to generate synthetic data\n",
    "#S_YdotX_actual = np.random.uniform(noise_range[0], noise_range[1], size=(m))\n",
    "S_YdotX_actual = np.array([[1.0],[1.0]])\n",
    "\n",
    "#B_actual = np.random.randint(B_range[0], B_range[1], size=(m, k+1))\n",
    "# The actual model parameters, used to generate synthetic data\n",
    "B_actual = np.random.uniform(B_range[0], B_range[1], size=(m, k+1))"
   ]
  },
  {
   "cell_type": "code",
   "execution_count": 3,
   "id": "4b81f093-ff09-4a5f-a146-09c2876a4ebc",
   "metadata": {},
   "outputs": [],
   "source": [
    "# Generate synthetic normative dataset\n",
    "X, Y, epsilon_actual = gen_synth_norm_data(B_actual, n, S_YdotX_actual, X_range, X_are_ints=X_are_ints)\n",
    "\n",
    "# estimate model params from synthetic dataset\n",
    "B_estimate, S_YdotX_estimate, R, X_mean, X_std = estimate_model_params(X,Y)"
   ]
  },
  {
   "cell_type": "code",
   "execution_count": 4,
   "id": "31936ca7-68bf-4a66-8af2-fb4580de936a",
   "metadata": {
    "scrolled": true
   },
   "outputs": [
    {
     "name": "stdout",
     "output_type": "stream",
     "text": [
      "B_actual:\n",
      "[[17.96792581 18.3345392  11.73340325 14.72934485]\n",
      " [10.63800895 13.61066806 10.65474291 10.852796  ]]\n",
      "\n",
      "B_estimate\n",
      "[[18.03403474 18.38124974 11.70906168 14.70657026]\n",
      " [10.87303757 13.59708354 10.6587232  10.87420713]]\n",
      "\n",
      "S_YdotX_actual:\n",
      "[[1.]\n",
      " [1.]]\n",
      "\n",
      "S_YdotX_estimate:\n",
      "[[1.04153877]\n",
      " [0.97866029]]\n"
     ]
    }
   ],
   "source": [
    "print('B_actual:')\n",
    "print(B_actual)\n",
    "print()\n",
    "print('B_estimate')\n",
    "print(B_estimate)\n",
    "print()\n",
    "print('S_YdotX_actual:')\n",
    "print(S_YdotX_actual)\n",
    "print()\n",
    "print('S_YdotX_estimate:')\n",
    "print(S_YdotX_estimate)"
   ]
  },
  {
   "cell_type": "code",
   "execution_count": 5,
   "id": "d665cac9-7fb1-43fe-afa6-cec6fd800c25",
   "metadata": {},
   "outputs": [],
   "source": [
    "# Generate a single median subject; 2 ways.\n",
    "\n",
    "# 1) A *perfectly* median subject, accoring to the estimated model parameters, would be generated \n",
    "#    using the estimated parameters of the model \n",
    "x_obs_median_estimate, y_obs_median_estimate = gen_synth_sub_data(B_estimate, 1, 0.0, X_range_syth, X_mean, X_std, X_are_ints=X_are_ints)\n",
    "\n",
    "# 2) But this is real life, and an actual median subject would be generated from the actual (not estimated)\n",
    "#    model parameters.\n",
    "x_obs_median_real, y_obs_median_real = gen_synth_sub_data(B_actual, 1, 0.0, X_range_syth, X_mean, X_std, X_are_ints=X_are_ints)"
   ]
  },
  {
   "cell_type": "code",
   "execution_count": 6,
   "id": "271fdf7f-b535-49f1-bb9d-5b71f0d4e575",
   "metadata": {},
   "outputs": [],
   "source": [
    "# Evaluate both subjects using the estimated model parameters\n",
    "p_perfect, p_ci_perfect = single_subject_eval(x_obs_median_estimate, y_obs_median_estimate, B_estimate, R, S_YdotX_estimate, n, X_mean, X_std)\n",
    "p_real, p_ci_real = single_subject_eval(x_obs_median_real, y_obs_median_real, B_estimate, R, S_YdotX_estimate, n, X_mean, X_std)"
   ]
  },
  {
   "cell_type": "code",
   "execution_count": 7,
   "id": "eae30501-de44-42e7-9490-9d87e1414421",
   "metadata": {},
   "outputs": [
    {
     "name": "stdout",
     "output_type": "stream",
     "text": [
      "percentile estiamtes of *perfectly* median subject\n",
      "[0.5 0.5]\n",
      "lower confidence interval of percentile estiamtes of *perfectly* median subject\n",
      "[0.42204455 0.42204455]\n",
      "upper confidence interval of percentile estiamtes of *perfectly* median subject\n",
      "[0.57795545 0.57795545]\n"
     ]
    }
   ],
   "source": [
    "# Percentile estimates should be *exactly* 0.5 since it's a perfectly median subject, according to the model estimates\n",
    "print('percentile estiamtes of *perfectly* median subject')\n",
    "print(p_perfect[:,0])\n",
    "print('lower confidence interval of percentile estiamtes of *perfectly* median subject')\n",
    "print(p_ci_perfect[:,0])\n",
    "print('upper confidence interval of percentile estiamtes of *perfectly* median subject')\n",
    "print(p_ci_perfect[:,1])"
   ]
  },
  {
   "cell_type": "code",
   "execution_count": 8,
   "id": "6c0cd9c7-f2ae-4ca0-985f-d8e00fc84993",
   "metadata": {},
   "outputs": [
    {
     "name": "stdout",
     "output_type": "stream",
     "text": [
      "percentile estimates of real-world median subject\n",
      "[0.52580429 0.54859746]\n",
      "lower confidence interval of percentile estiamtes of *perfectly* median subject\n",
      "[0.44757958 0.47024886]\n",
      "upper confidence interval of percentile estiamtes of *perfectly* median subject\n",
      "[0.60329482 0.62556196]\n"
     ]
    }
   ],
   "source": [
    "# Percentile estimates should be *approximately* 0.5 since this subject was generated from the actual\n",
    "# model parameters, not estimated.  The difference between these estimates and 0.5 will depend on how\n",
    "# closely the model parameter estimates match the actual values.  \n",
    "# This will get closer to 0.5 as n increases\n",
    "print('percentile estimates of real-world median subject')\n",
    "print(p_real[:,0])\n",
    "print('lower confidence interval of percentile estiamtes of *perfectly* median subject')\n",
    "print(p_ci_real[:,0])\n",
    "print('upper confidence interval of percentile estiamtes of *perfectly* median subject')\n",
    "print(p_ci_real[:,1])"
   ]
  },
  {
   "cell_type": "code",
   "execution_count": 9,
   "id": "29a325ca-b21b-4cb4-bb80-4446385fe653",
   "metadata": {},
   "outputs": [],
   "source": [
    "# Alternatively, If we evaluate both subject using the actual model parameters, then x_obs_median_estimate will\n",
    "# give us a perfectly median subject\n",
    "p_real, p_ci_real = single_subject_eval(x_obs_median_estimate, y_obs_median_estimate, B_actual, R, S_YdotX_actual, n, X_mean, X_std)\n",
    "p_perfect, p_ci_perfect = single_subject_eval(x_obs_median_real, y_obs_median_real, B_actual, R, S_YdotX_actual, n, X_mean, X_std)"
   ]
  },
  {
   "cell_type": "code",
   "execution_count": 10,
   "id": "fc794194-bbcb-4a67-b100-a9ac683beb4c",
   "metadata": {},
   "outputs": [
    {
     "name": "stdout",
     "output_type": "stream",
     "text": [
      "percentile estimates of *perfectly* median subject\n",
      "[0.5 0.5]\n",
      "lower confidence interval of percentile estiamtes of *perfectly* median subject\n",
      "[0.42206401 0.42206401]\n",
      "upper confidence interval of percentile estiamtes of *perfectly* median subject\n",
      "[0.57793599 0.57793599]\n"
     ]
    }
   ],
   "source": [
    "# Percentile estimates should be *exactly* 0.5\n",
    "print('percentile estimates of *perfectly* median subject')\n",
    "print(p_perfect[:,0])\n",
    "print('lower confidence interval of percentile estiamtes of *perfectly* median subject')\n",
    "print(p_ci_perfect[:,0])\n",
    "print('upper confidence interval of percentile estiamtes of *perfectly* median subject')\n",
    "print(p_ci_perfect[:,1])"
   ]
  },
  {
   "cell_type": "code",
   "execution_count": 11,
   "id": "d1fc0a8e-f9f3-42a0-a82c-a21ce7e1cb61",
   "metadata": {},
   "outputs": [
    {
     "name": "stdout",
     "output_type": "stream",
     "text": [
      "percentile estimates of real-world median subject\n",
      "[0.51283524 0.56693283]\n",
      "lower confidence interval of percentile estiamtes of *perfectly* median subject\n",
      "[0.43471653 0.48855656]\n",
      "upper confidence interval of percentile estiamtes of *perfectly* median subject\n",
      "[0.59058868 0.64339944]\n"
     ]
    }
   ],
   "source": [
    "# Should be appox 0.5 and get closer to 0.5 as n increases\n",
    "print('percentile estimates of real-world median subject')\n",
    "print(p_real[:,0])\n",
    "print('lower confidence interval of percentile estiamtes of *perfectly* median subject')\n",
    "print(p_ci_real[:,0])\n",
    "print('upper confidence interval of percentile estiamtes of *perfectly* median subject')\n",
    "print(p_ci_real[:,1])"
   ]
  },
  {
   "cell_type": "code",
   "execution_count": null,
   "id": "f0e3258a-22e9-4e2d-9641-2124f3205915",
   "metadata": {},
   "outputs": [],
   "source": []
  }
 ],
 "metadata": {
  "kernelspec": {
   "display_name": "Python 3 (ipykernel)",
   "language": "python",
   "name": "python3"
  },
  "language_info": {
   "codemirror_mode": {
    "name": "ipython",
    "version": 3
   },
   "file_extension": ".py",
   "mimetype": "text/x-python",
   "name": "python",
   "nbconvert_exporter": "python",
   "pygments_lexer": "ipython3",
   "version": "3.12.9"
  }
 },
 "nbformat": 4,
 "nbformat_minor": 5
}
