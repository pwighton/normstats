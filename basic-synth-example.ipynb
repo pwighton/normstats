{
 "cells": [
  {
   "cell_type": "code",
   "execution_count": 48,
   "id": "5e87b5ab-f91d-4c81-839c-de84498de361",
   "metadata": {},
   "outputs": [],
   "source": [
    "import logging\n",
    "import sys\n",
    "from normstats import *\n",
    "np.set_printoptions(suppress=True)\n",
    "\n",
    "logging.basicConfig(\n",
    "    # Change the logging level to DEBUG to get a lot more verbosity\n",
    "    #level=logging.DEBUG,\n",
    "    level=logging.WARN,\n",
    "    format='%(asctime)s - %(name)s - %(funcName)s - %(levelname)s - %(message)s',\n",
    "    stream=sys.stdout,\n",
    "    force=True\n",
    ")\n",
    "logger = logging.getLogger(__name__)\n",
    "\n",
    "# For reproducibility\n",
    "np.random.seed(abs(hash(\"giraffes are cool\"))%(2**32 - 1))"
   ]
  },
  {
   "cell_type": "code",
   "execution_count": 49,
   "id": "bf5af101-793c-4d64-a8c6-a6e06e20120c",
   "metadata": {},
   "outputs": [],
   "source": [
    "# Parameters for normative synthetic data generation\n",
    "\n",
    "# number of samples\n",
    "n = 10\n",
    "# number of ind vars\n",
    "k = 3\n",
    "# number of dep vars\n",
    "m = 2\n",
    "# std_dev of noise\n",
    "S_YdotX_actual = np.random.uniform(10.0, 20.0, size=(m))\n",
    "\n",
    "# B (model params) will be chosen randomly from this range\n",
    "B_range = (100, 200)\n",
    "#B_actual = np.random.randint(B_range[0], B_range[1], size=(m, k+1))\n",
    "B_actual = np.random.uniform(B_range[0], B_range[1], size=(m, k+1))\n",
    "        \n",
    "# X (ind vars) will be chosen randomly from this range\n",
    "X_range = (1,20)\n",
    "X_range_syth = (5,15)\n",
    "X_are_ints = True"
   ]
  },
  {
   "cell_type": "code",
   "execution_count": 50,
   "id": "4b81f093-ff09-4a5f-a146-09c2876a4ebc",
   "metadata": {},
   "outputs": [],
   "source": [
    "# Generate synthetic normative dataset\n",
    "X, Y, epsilon_actual = gen_synth_norm_data(B_actual, n, S_YdotX_actual, X_range, X_are_ints=X_are_ints)\n",
    "\n",
    "# estimate model params from synthetic dataset\n",
    "B_estimate, S_YdotX_estimate, R, X_mean, X_std = estimate_model_params(X,Y)"
   ]
  },
  {
   "cell_type": "code",
   "execution_count": 51,
   "id": "31936ca7-68bf-4a66-8af2-fb4580de936a",
   "metadata": {
    "scrolled": true
   },
   "outputs": [
    {
     "name": "stdout",
     "output_type": "stream",
     "text": [
      "B_actual:\n",
      "[[158.58437182 176.18008607 156.37639273 142.15113047]\n",
      " [144.98971425 101.36918127 114.66956827 169.47798428]]\n",
      "\n",
      "B_estimate\n",
      "[[159.30992403 180.06475614 158.31146769 141.82749468]\n",
      " [147.17921962 100.5709996  110.06973254 162.59882055]]\n",
      "\n",
      "S_YdotX_actual:\n",
      "[15.56876998 11.94381454]\n",
      "\n",
      "S_YdotX_estimate:\n",
      "[[14.39139734]\n",
      " [ 7.97953417]]\n"
     ]
    }
   ],
   "source": [
    "print('B_actual:')\n",
    "print(B_actual)\n",
    "print()\n",
    "print('B_estimate')\n",
    "print(B_estimate)\n",
    "print()\n",
    "print('S_YdotX_actual:')\n",
    "print(S_YdotX_actual)\n",
    "print()\n",
    "print('S_YdotX_estimate:')\n",
    "print(S_YdotX_estimate)"
   ]
  },
  {
   "cell_type": "code",
   "execution_count": 52,
   "id": "d665cac9-7fb1-43fe-afa6-cec6fd800c25",
   "metadata": {},
   "outputs": [],
   "source": [
    "# Generate a single perfectly median subject\n",
    "x_obs, y_obs = gen_synth_sub_data(B_actual, 1, 0.0, X_range_syth, X_mean, X_std, X_are_ints=X_are_ints)"
   ]
  },
  {
   "cell_type": "code",
   "execution_count": 53,
   "id": "271fdf7f-b535-49f1-bb9d-5b71f0d4e575",
   "metadata": {},
   "outputs": [],
   "source": [
    "p, p_ci = single_subject_eval(x_obs, y_obs, B_estimate, R, S_YdotX_estimate, n, X_mean, X_std)"
   ]
  },
  {
   "cell_type": "code",
   "execution_count": 54,
   "id": "eae30501-de44-42e7-9490-9d87e1414421",
   "metadata": {},
   "outputs": [
    {
     "name": "stdout",
     "output_type": "stream",
     "text": [
      "p\n",
      "[0.5204087  0.88336542]\n",
      "lower confidence interval of p\n",
      "[0.26537543 0.63663998]\n",
      "upper confidence interval of p\n",
      "[0.76890115 0.99204168]\n"
     ]
    }
   ],
   "source": [
    "# Should be ~0.5 since it's a perfectly median subject\n",
    "print('p')\n",
    "print(p[:,0])\n",
    "print('lower confidence interval of p')\n",
    "print(p_ci[:,0])\n",
    "print('upper confidence interval of p')\n",
    "print(p_ci[:,1])"
   ]
  },
  {
   "cell_type": "code",
   "execution_count": null,
   "id": "fafa1c60-c218-4cbe-8640-ba30d355c142",
   "metadata": {},
   "outputs": [],
   "source": []
  }
 ],
 "metadata": {
  "kernelspec": {
   "display_name": "Python 3 (ipykernel)",
   "language": "python",
   "name": "python3"
  },
  "language_info": {
   "codemirror_mode": {
    "name": "ipython",
    "version": 3
   },
   "file_extension": ".py",
   "mimetype": "text/x-python",
   "name": "python",
   "nbconvert_exporter": "python",
   "pygments_lexer": "ipython3",
   "version": "3.12.9"
  }
 },
 "nbformat": 4,
 "nbformat_minor": 5
}
