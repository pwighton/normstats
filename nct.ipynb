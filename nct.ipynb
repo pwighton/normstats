{
 "cells": [
  {
   "cell_type": "code",
   "execution_count": 1,
   "id": "eabe9b4a-f4ff-46e0-ab61-47de8deb07ae",
   "metadata": {},
   "outputs": [],
   "source": [
    "import numpy as np\n",
    "import scipy as sp\n",
    "import matplotlib.pyplot as plt\n",
    "import logging\n",
    "import sys\n",
    "\n",
    "from nct import nct_cdf_solve_for_nc\n",
    "\n",
    "from normstats import *\n",
    "\n",
    "logging.basicConfig(\n",
    "    level=logging.DEBUG,\n",
    "    format='%(asctime)s - %(name)s - %(funcName)s - %(levelname)s - %(message)s',\n",
    "    stream=sys.stdout,\n",
    "    force=True\n",
    ")\n",
    "logger = logging.getLogger(__name__)"
   ]
  },
  {
   "cell_type": "code",
   "execution_count": 2,
   "id": "ca64a908-05c6-4757-95a7-c945e03d584c",
   "metadata": {},
   "outputs": [],
   "source": [
    "def nct_solve_verbose(x,df,cdf_actual, bounds=None):\n",
    "    nc_estimate = nct_cdf_solve_for_nc(x, df, cdf_actual, bounds=bounds)\n",
    "    cdf_estimate = sp.stats.nct.cdf(x, df, nc_estimate)\n",
    "    print(f'-------------------------')\n",
    "    print(f'x:               {x}')\n",
    "    print(f'nc_estimate:     {nc_estimate}')\n",
    "    print(f'cdf_actual:      {cdf_actual}')\n",
    "    print(f'cdf_estimate:    {cdf_estimate}')"
   ]
  },
  {
   "cell_type": "code",
   "execution_count": 4,
   "id": "e2c8e89d-2392-482b-b3cc-7627d54c9f2c",
   "metadata": {},
   "outputs": [
    {
     "name": "stdout",
     "output_type": "stream",
     "text": [
      "2025-05-28 15:18:06,203 - nct - nct_cdf_solve_for_nc - DEBUG - bounds are: (-10, 10)\n",
      "2025-05-28 15:18:06,204 - nct - nct_cdf_solve_for_nc - DEBUG - different signs exception caught; loosening bounds\n",
      "2025-05-28 15:18:06,204 - nct - nct_cdf_solve_for_nc - DEBUG - bounds are: (-20.0, 20.0)\n",
      "2025-05-28 15:18:06,205 - nct - nct_cdf_solve_for_nc - DEBUG - different signs exception caught; loosening bounds\n",
      "2025-05-28 15:18:06,205 - nct - nct_cdf_solve_for_nc - DEBUG - bounds are: (-40.0, 40.0)\n",
      "2025-05-28 15:18:06,206 - nct - nct_cdf_solve_for_nc - DEBUG - different signs exception caught; loosening bounds\n",
      "2025-05-28 15:18:06,206 - nct - nct_cdf_solve_for_nc - DEBUG - bounds are: (-80.0, 80.0)\n",
      "2025-05-28 15:18:06,207 - nct - nct_cdf_solve_for_nc - DEBUG - different signs exception caught; loosening bounds\n",
      "2025-05-28 15:18:06,207 - nct - nct_cdf_solve_for_nc - DEBUG - bounds are: (-160.0, 160.0)\n",
      "2025-05-28 15:18:06,209 - nct - nct_cdf_solve_for_nc - DEBUG - result: 113.95859498548036\n",
      "2025-05-28 15:18:06,210 - nct - nct_cdf_solve_for_nc - DEBUG - objective: 7.40171812729784e-14\n",
      "-------------------------\n",
      "x:               100\n",
      "nc_estimate:     113.95859498548036\n",
      "cdf_actual:      0.025\n",
      "cdf_estimate:    0.02500000000007402\n",
      "2025-05-28 15:18:06,210 - nct - nct_cdf_solve_for_nc - DEBUG - bounds are: (-10000000000, 10000000000)\n",
      "2025-05-28 15:18:06,211 - nct - nct_cdf_solve_for_nc - DEBUG - function value at x=%f is NaN exception caught; tightening bounds\n",
      "2025-05-28 15:18:06,212 - nct - nct_cdf_solve_for_nc - DEBUG - bounds are: (-5714285714.285714, 5714285714.285714)\n",
      "2025-05-28 15:18:06,212 - nct - nct_cdf_solve_for_nc - DEBUG - function value at x=%f is NaN exception caught; tightening bounds\n",
      "2025-05-28 15:18:06,213 - nct - nct_cdf_solve_for_nc - DEBUG - bounds are: (-3265306122.4489794, 3265306122.4489794)\n",
      "2025-05-28 15:18:06,213 - nct - nct_cdf_solve_for_nc - DEBUG - function value at x=%f is NaN exception caught; tightening bounds\n",
      "2025-05-28 15:18:06,213 - nct - nct_cdf_solve_for_nc - DEBUG - bounds are: (-1865889212.8279881, 1865889212.8279881)\n",
      "2025-05-28 15:18:06,217 - nct - nct_cdf_solve_for_nc - DEBUG - result: 113.95859498572086\n",
      "2025-05-28 15:18:06,218 - nct - nct_cdf_solve_for_nc - DEBUG - objective: -1.8157038372823564e-12\n",
      "-------------------------\n",
      "x:               100\n",
      "nc_estimate:     113.95859498572086\n",
      "cdf_actual:      0.025\n",
      "cdf_estimate:    0.024999999998184298\n"
     ]
    }
   ],
   "source": [
    "# Test recovering from ValueError exceptions thrown by sp.optimize.brentq()\n",
    "\n",
    "x = 100\n",
    "df = 100\n",
    "cdf_actual = 0.025\n",
    "num_tries = 10\n",
    "nct_bounds = (-10,10)\n",
    "\n",
    "# this should generate the \"f(a) and f(b) must have different signs\" error\n",
    "nct_solve_verbose(x, df, cdf_actual, bounds=(-10,10))\n",
    "\n",
    "# this should generate the \"The function value at x=%f is NaN; solver cannot continue.\" error\n",
    "nct_solve_verbose(x, df, cdf_actual, bounds=(-10000000000,10000000000))"
   ]
  },
  {
   "cell_type": "code",
   "execution_count": 4,
   "id": "87b3c9bf-cdb5-4321-a09f-115e81f26c9d",
   "metadata": {},
   "outputs": [
    {
     "name": "stdout",
     "output_type": "stream",
     "text": [
      "2025-05-28 14:27:45,237 - nct - nct_cdf_solve_for_nc - DEBUG - bounds are: (-10, 10)\n",
      "2025-05-28 14:27:45,239 - nct - nct_cdf_solve_for_nc - DEBUG - result: 1.9699395049504393\n",
      "2025-05-28 14:27:45,240 - nct - nct_cdf_solve_for_nc - DEBUG - objective: 5.2974985509379735e-14\n",
      "-------------------------\n",
      "x:               0.01\n",
      "nc_estimate:     1.9699395049504393\n",
      "cdf_actual:      0.025\n",
      "cdf_estimate:    0.025000000000052976\n",
      "2025-05-28 14:27:45,240 - nct - nct_cdf_solve_for_nc - DEBUG - bounds are: (-10, 10)\n",
      "2025-05-28 14:27:45,241 - nct - nct_cdf_solve_for_nc - DEBUG - result: 2.0597631881902805\n",
      "2025-05-28 14:27:45,242 - nct - nct_cdf_solve_for_nc - DEBUG - objective: -1.6831327998012569e-13\n",
      "-------------------------\n",
      "x:               0.1\n",
      "nc_estimate:     2.0597631881902805\n",
      "cdf_actual:      0.025\n",
      "cdf_estimate:    0.024999999999831688\n",
      "2025-05-28 14:27:45,242 - nct - nct_cdf_solve_for_nc - DEBUG - bounds are: (-10, 10)\n",
      "2025-05-28 14:27:45,244 - nct - nct_cdf_solve_for_nc - DEBUG - result: 2.9623604785683315\n",
      "2025-05-28 14:27:45,244 - nct - nct_cdf_solve_for_nc - DEBUG - objective: 0.0\n",
      "-------------------------\n",
      "x:               1.0\n",
      "nc_estimate:     2.9623604785683315\n",
      "cdf_actual:      0.025\n",
      "cdf_estimate:    0.025\n",
      "2025-05-28 14:27:45,245 - nct - nct_cdf_solve_for_nc - DEBUG - bounds are: (-10, 10)\n",
      "2025-05-28 14:27:45,245 - nct - nct_cdf_solve_for_nc - DEBUG - function value at x=%f is NaN exception caught; tightening bounds\n",
      "2025-05-28 14:27:45,246 - nct - nct_cdf_solve_for_nc - DEBUG - bounds are: (-5.714285714285714, 5.714285714285714)\n",
      "2025-05-28 14:27:45,246 - nct - nct_cdf_solve_for_nc - DEBUG - different signs exception caught; loosening bounds\n",
      "2025-05-28 14:27:45,246 - nct - nct_cdf_solve_for_nc - DEBUG - bounds are: (-11.428571428571429, 11.428571428571429)\n",
      "2025-05-28 14:27:45,247 - nct - nct_cdf_solve_for_nc - DEBUG - different signs exception caught; loosening bounds\n",
      "2025-05-28 14:27:45,247 - nct - nct_cdf_solve_for_nc - DEBUG - bounds are: (-22.857142857142858, 22.857142857142858)\n",
      "2025-05-28 14:27:45,249 - nct - nct_cdf_solve_for_nc - DEBUG - result: 12.382371902633668\n",
      "2025-05-28 14:27:45,249 - nct - nct_cdf_solve_for_nc - DEBUG - objective: 4.748562654199873e-13\n",
      "-------------------------\n",
      "x:               10.0\n",
      "nc_estimate:     12.382371902633668\n",
      "cdf_actual:      0.025\n",
      "cdf_estimate:    0.025000000000474858\n",
      "2025-05-28 14:27:45,249 - nct - nct_cdf_solve_for_nc - DEBUG - bounds are: (-10, 10)\n",
      "2025-05-28 14:27:45,250 - nct - nct_cdf_solve_for_nc - DEBUG - different signs exception caught; loosening bounds\n",
      "2025-05-28 14:27:45,250 - nct - nct_cdf_solve_for_nc - DEBUG - bounds are: (-20.0, 20.0)\n",
      "2025-05-28 14:27:45,251 - nct - nct_cdf_solve_for_nc - DEBUG - different signs exception caught; loosening bounds\n",
      "2025-05-28 14:27:45,251 - nct - nct_cdf_solve_for_nc - DEBUG - bounds are: (-40.0, 40.0)\n",
      "2025-05-28 14:27:45,252 - nct - nct_cdf_solve_for_nc - DEBUG - different signs exception caught; loosening bounds\n",
      "2025-05-28 14:27:45,252 - nct - nct_cdf_solve_for_nc - DEBUG - bounds are: (-80.0, 80.0)\n",
      "2025-05-28 14:27:45,252 - nct - nct_cdf_solve_for_nc - DEBUG - different signs exception caught; loosening bounds\n",
      "2025-05-28 14:27:45,253 - nct - nct_cdf_solve_for_nc - DEBUG - bounds are: (-160.0, 160.0)\n",
      "2025-05-28 14:27:45,254 - nct - nct_cdf_solve_for_nc - DEBUG - result: 113.95859498548036\n",
      "2025-05-28 14:27:45,255 - nct - nct_cdf_solve_for_nc - DEBUG - objective: 7.40171812729784e-14\n",
      "-------------------------\n",
      "x:               100.0\n",
      "nc_estimate:     113.95859498548036\n",
      "cdf_actual:      0.025\n",
      "cdf_estimate:    0.02500000000007402\n",
      "2025-05-28 14:27:45,255 - nct - nct_cdf_solve_for_nc - DEBUG - bounds are: (-10, 10)\n",
      "2025-05-28 14:27:45,256 - nct - nct_cdf_solve_for_nc - DEBUG - different signs exception caught; loosening bounds\n",
      "2025-05-28 14:27:45,256 - nct - nct_cdf_solve_for_nc - DEBUG - bounds are: (-20.0, 20.0)\n",
      "2025-05-28 14:27:45,257 - nct - nct_cdf_solve_for_nc - DEBUG - different signs exception caught; loosening bounds\n",
      "2025-05-28 14:27:45,257 - nct - nct_cdf_solve_for_nc - DEBUG - bounds are: (-40.0, 40.0)\n",
      "2025-05-28 14:27:45,257 - nct - nct_cdf_solve_for_nc - DEBUG - different signs exception caught; loosening bounds\n",
      "2025-05-28 14:27:45,258 - nct - nct_cdf_solve_for_nc - DEBUG - bounds are: (-80.0, 80.0)\n",
      "2025-05-28 14:27:45,258 - nct - nct_cdf_solve_for_nc - DEBUG - different signs exception caught; loosening bounds\n",
      "2025-05-28 14:27:45,259 - nct - nct_cdf_solve_for_nc - DEBUG - bounds are: (-160.0, 160.0)\n",
      "2025-05-28 14:27:45,259 - nct - nct_cdf_solve_for_nc - DEBUG - different signs exception caught; loosening bounds\n",
      "2025-05-28 14:27:45,259 - nct - nct_cdf_solve_for_nc - DEBUG - bounds are: (-320.0, 320.0)\n",
      "2025-05-28 14:27:45,260 - nct - nct_cdf_solve_for_nc - DEBUG - different signs exception caught; loosening bounds\n",
      "2025-05-28 14:27:45,260 - nct - nct_cdf_solve_for_nc - DEBUG - bounds are: (-640.0, 640.0)\n",
      "2025-05-28 14:27:45,261 - nct - nct_cdf_solve_for_nc - DEBUG - different signs exception caught; loosening bounds\n",
      "2025-05-28 14:27:45,261 - nct - nct_cdf_solve_for_nc - DEBUG - bounds are: (-1280.0, 1280.0)\n",
      "2025-05-28 14:27:45,266 - nct - nct_cdf_solve_for_nc - DEBUG - result: 1138.262944944289\n",
      "2025-05-28 14:27:45,267 - nct - nct_cdf_solve_for_nc - DEBUG - objective: 5.773249933671565e-12\n",
      "-------------------------\n",
      "x:               1000.0\n",
      "nc_estimate:     1138.262944944289\n",
      "cdf_actual:      0.025\n",
      "cdf_estimate:    0.02500000000577325\n"
     ]
    }
   ],
   "source": [
    "x = 0.001\n",
    "df = 100\n",
    "cdf_actual = 0.025\n",
    "\n",
    "for i in range(6):\n",
    "    x *= 10\n",
    "    nct_solve_verbose(x, df, cdf_actual)"
   ]
  },
  {
   "cell_type": "code",
   "execution_count": 5,
   "id": "5a9f1e52-9bc4-42bd-8509-9051499f0df8",
   "metadata": {},
   "outputs": [
    {
     "name": "stdout",
     "output_type": "stream",
     "text": [
      "2025-05-28 14:27:57,285 - nct - nct_cdf_solve_for_nc - DEBUG - bounds are: (-10, 10)\n",
      "2025-05-28 14:27:57,287 - nct - nct_cdf_solve_for_nc - DEBUG - result: 2.4599385673798495\n",
      "2025-05-28 14:27:57,287 - nct - nct_cdf_solve_for_nc - DEBUG - objective: 2.9238764187589084e-12\n",
      "-------------------------\n",
      "x:               0.5\n",
      "nc_estimate:     2.4599385673798495\n",
      "cdf_actual:      0.025\n",
      "cdf_estimate:    0.025000000002923878\n"
     ]
    }
   ],
   "source": [
    "x = 0.5      \n",
    "df = 100\n",
    "nc_actual = 0.025\n",
    "\n",
    "nct_solve_verbose(x, df, cdf_actual)"
   ]
  },
  {
   "cell_type": "code",
   "execution_count": 6,
   "id": "9369b2f7-4b5a-4485-bf15-f76ae6809010",
   "metadata": {},
   "outputs": [
    {
     "name": "stdout",
     "output_type": "stream",
     "text": [
      "2025-05-28 14:28:03,333 - nct - nct_cdf_solve_for_nc - DEBUG - bounds are: (-10, 10)\n",
      "2025-05-28 14:28:03,334 - nct - nct_cdf_solve_for_nc - DEBUG - result: 0.12339999999993737\n",
      "2025-05-28 14:28:03,335 - nct - nct_cdf_solve_for_nc - DEBUG - objective: 2.0539125955565396e-14\n",
      "-------------------------\n",
      "x:               -0.5\n",
      "nc_estimate:     0.12339999999993737\n",
      "cdf_actual:      0.2665544900976887\n",
      "cdf_estimate:    0.26655449009770926\n"
     ]
    }
   ],
   "source": [
    "x = -0.5      \n",
    "df = 1234\n",
    "nc_actual = 0.1234\n",
    "cdf_actual = sp.stats.nct.cdf(x, df, nc_actual)\n",
    "\n",
    "nct_solve_verbose(x, df, cdf_actual)"
   ]
  },
  {
   "cell_type": "code",
   "execution_count": 7,
   "id": "a9f4f61a-654d-4331-969d-39da2eb53687",
   "metadata": {},
   "outputs": [
    {
     "name": "stdout",
     "output_type": "stream",
     "text": [
      "2025-05-28 14:28:05,373 - nct - nct_cdf_solve_for_nc - DEBUG - bounds are: (-10, 10)\n",
      "2025-05-28 14:28:05,374 - nct - nct_cdf_solve_for_nc - DEBUG - result: -10.0\n",
      "2025-05-28 14:28:05,374 - nct - nct_cdf_solve_for_nc - DEBUG - objective: 0.0\n",
      "-------------------------\n",
      "x:               20000.0\n",
      "nc_estimate:     -10.0\n",
      "cdf_actual:      1.0\n",
      "cdf_estimate:    1.0\n"
     ]
    }
   ],
   "source": [
    "x = 20000.0      \n",
    "df = 1234\n",
    "nc_actual = 0.1234\n",
    "cdf_actual = sp.stats.nct.cdf(x, df, nc_actual)\n",
    "\n",
    "nct_solve_verbose(x, df, cdf_actual)"
   ]
  },
  {
   "cell_type": "code",
   "execution_count": 8,
   "id": "60195406-dab7-4129-bd55-0311098f1e58",
   "metadata": {},
   "outputs": [
    {
     "name": "stdout",
     "output_type": "stream",
     "text": [
      "2025-05-28 14:28:07,932 - nct - nct_cdf_solve_for_nc - DEBUG - bounds are: (-10, 10)\n",
      "2025-05-28 14:28:07,934 - nct - nct_cdf_solve_for_nc - DEBUG - result: 0.9301710006616564\n",
      "2025-05-28 14:28:07,934 - nct - nct_cdf_solve_for_nc - DEBUG - objective: -3.0531133177191805e-16\n",
      "-------------------------\n",
      "x:               -1.0313590120542573\n",
      "nc_estimate:     0.9301710006616564\n",
      "cdf_actual:      0.025000000000000022\n",
      "cdf_estimate:    0.024999999999999717\n"
     ]
    }
   ],
   "source": [
    "x = -1.0313590120542573\n",
    "df = 497\n",
    "cdf_actual = 1-0.975\n",
    "\n",
    "nct_solve_verbose(x, df, cdf_actual)"
   ]
  },
  {
   "cell_type": "code",
   "execution_count": 9,
   "id": "b5b9eadc-ddee-4e6e-8210-35f09a5a0c76",
   "metadata": {},
   "outputs": [
    {
     "name": "stdout",
     "output_type": "stream",
     "text": [
      "2025-05-28 14:28:09,732 - nct - nct_cdf_solve_for_nc - DEBUG - bounds are: (-10, 10)\n",
      "2025-05-28 14:28:09,734 - nct - nct_cdf_solve_for_nc - DEBUG - result: -2.991852752936132\n",
      "2025-05-28 14:28:09,734 - nct - nct_cdf_solve_for_nc - DEBUG - objective: 0.0\n",
      "-------------------------\n",
      "x:               -1.0313590120542573\n",
      "nc_estimate:     -2.991852752936132\n",
      "cdf_actual:      0.975\n",
      "cdf_estimate:    0.975\n"
     ]
    }
   ],
   "source": [
    "x = -1.0313590120542573\n",
    "df = 497\n",
    "cdf_actual = 1-0.05/2\n",
    "\n",
    "nct_solve_verbose(x, df, cdf_actual)"
   ]
  }
 ],
 "metadata": {
  "kernelspec": {
   "display_name": "Python 3 (ipykernel)",
   "language": "python",
   "name": "python3"
  },
  "language_info": {
   "codemirror_mode": {
    "name": "ipython",
    "version": 3
   },
   "file_extension": ".py",
   "mimetype": "text/x-python",
   "name": "python",
   "nbconvert_exporter": "python",
   "pygments_lexer": "ipython3",
   "version": "3.12.9"
  }
 },
 "nbformat": 4,
 "nbformat_minor": 5
}
