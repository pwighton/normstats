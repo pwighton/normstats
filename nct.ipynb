{
 "cells": [
  {
   "cell_type": "code",
   "execution_count": 1,
   "id": "eabe9b4a-f4ff-46e0-ab61-47de8deb07ae",
   "metadata": {},
   "outputs": [],
   "source": [
    "import numpy as np\n",
    "import scipy as sp\n",
    "import matplotlib.pyplot as plt\n",
    "import logging\n",
    "import sys\n",
    "\n",
    "from nct import nct_cdf_solve_for_nc\n",
    "\n",
    "from normstats import *\n",
    "\n",
    "logging.basicConfig(\n",
    "    # Change the logging level to DEBUG to get a lot more verbosity\n",
    "    #level=logging.DEBUG,\n",
    "    level=logging.WARN,\n",
    "    format='%(asctime)s - %(name)s - %(funcName)s - %(levelname)s - %(message)s',\n",
    "    stream=sys.stdout,\n",
    "    force=True\n",
    ")\n",
    "logger = logging.getLogger(__name__)"
   ]
  },
  {
   "cell_type": "code",
   "execution_count": 2,
   "id": "ca64a908-05c6-4757-95a7-c945e03d584c",
   "metadata": {},
   "outputs": [],
   "source": [
    "def nct_solve_verbose(x,df,cdf_actual, bounds=None):\n",
    "    nc_estimate = nct_cdf_solve_for_nc(x, df, cdf_actual, bounds=bounds)\n",
    "    cdf_estimate = sp.stats.nct.cdf(x, df, nc_estimate)\n",
    "    print(f'-------------------------')\n",
    "    print(f'x:               {x}')\n",
    "    print(f'nc_estimate:     {nc_estimate}')\n",
    "    print(f'cdf_actual:      {cdf_actual}')\n",
    "    print(f'cdf_estimate:    {cdf_estimate}')\n",
    "    print(f'-------------------------')"
   ]
  },
  {
   "cell_type": "code",
   "execution_count": 3,
   "id": "e2c8e89d-2392-482b-b3cc-7627d54c9f2c",
   "metadata": {},
   "outputs": [
    {
     "name": "stdout",
     "output_type": "stream",
     "text": [
      "-------------------------\n",
      "x:               100\n",
      "nc_estimate:     113.95859498548036\n",
      "cdf_actual:      0.025\n",
      "cdf_estimate:    0.02500000000007402\n",
      "-------------------------\n",
      "-------------------------\n",
      "x:               100\n",
      "nc_estimate:     113.95859498572086\n",
      "cdf_actual:      0.025\n",
      "cdf_estimate:    0.024999999998184298\n",
      "-------------------------\n"
     ]
    }
   ],
   "source": [
    "# Test recovering from ValueError exceptions thrown by sp.optimize.brentq()\n",
    "\n",
    "x = 100\n",
    "df = 100\n",
    "cdf_actual = 0.025\n",
    "num_tries = 10\n",
    "nct_bounds = (-10,10)\n",
    "\n",
    "# this should generate the \"f(a) and f(b) must have different signs\" error\n",
    "nct_solve_verbose(x, df, cdf_actual, bounds=(-10,10))\n",
    "\n",
    "# this should generate the \"The function value at x=%f is NaN; solver cannot continue.\" error\n",
    "nct_solve_verbose(x, df, cdf_actual, bounds=(-10000000000,10000000000))"
   ]
  },
  {
   "cell_type": "code",
   "execution_count": 4,
   "id": "87b3c9bf-cdb5-4321-a09f-115e81f26c9d",
   "metadata": {},
   "outputs": [
    {
     "name": "stdout",
     "output_type": "stream",
     "text": [
      "-------------------------\n",
      "x:               0.01\n",
      "nc_estimate:     1.9699395049504393\n",
      "cdf_actual:      0.025\n",
      "cdf_estimate:    0.025000000000052976\n",
      "-------------------------\n",
      "-------------------------\n",
      "x:               0.1\n",
      "nc_estimate:     2.0597631881902805\n",
      "cdf_actual:      0.025\n",
      "cdf_estimate:    0.024999999999831688\n",
      "-------------------------\n",
      "-------------------------\n",
      "x:               1.0\n",
      "nc_estimate:     2.9623604785683315\n",
      "cdf_actual:      0.025\n",
      "cdf_estimate:    0.025\n",
      "-------------------------\n",
      "-------------------------\n",
      "x:               10.0\n",
      "nc_estimate:     12.382371902633668\n",
      "cdf_actual:      0.025\n",
      "cdf_estimate:    0.025000000000474858\n",
      "-------------------------\n",
      "-------------------------\n",
      "x:               100.0\n",
      "nc_estimate:     113.95859498548036\n",
      "cdf_actual:      0.025\n",
      "cdf_estimate:    0.02500000000007402\n",
      "-------------------------\n",
      "-------------------------\n",
      "x:               1000.0\n",
      "nc_estimate:     1138.262944944289\n",
      "cdf_actual:      0.025\n",
      "cdf_estimate:    0.02500000000577325\n",
      "-------------------------\n"
     ]
    }
   ],
   "source": [
    "x = 0.001\n",
    "df = 100\n",
    "cdf_actual = 0.025\n",
    "\n",
    "for i in range(6):\n",
    "    x *= 10\n",
    "    nct_solve_verbose(x, df, cdf_actual)"
   ]
  },
  {
   "cell_type": "code",
   "execution_count": 5,
   "id": "5a9f1e52-9bc4-42bd-8509-9051499f0df8",
   "metadata": {},
   "outputs": [
    {
     "name": "stdout",
     "output_type": "stream",
     "text": [
      "-------------------------\n",
      "x:               0.5\n",
      "nc_estimate:     2.4599385673798495\n",
      "cdf_actual:      0.025\n",
      "cdf_estimate:    0.025000000002923878\n",
      "-------------------------\n"
     ]
    }
   ],
   "source": [
    "x = 0.5      \n",
    "df = 100\n",
    "nc_actual = 0.025\n",
    "\n",
    "nct_solve_verbose(x, df, cdf_actual)"
   ]
  },
  {
   "cell_type": "code",
   "execution_count": 6,
   "id": "9369b2f7-4b5a-4485-bf15-f76ae6809010",
   "metadata": {},
   "outputs": [
    {
     "name": "stdout",
     "output_type": "stream",
     "text": [
      "-------------------------\n",
      "x:               -0.5\n",
      "nc_estimate:     0.12339999999993737\n",
      "cdf_actual:      0.2665544900976887\n",
      "cdf_estimate:    0.26655449009770926\n",
      "-------------------------\n"
     ]
    }
   ],
   "source": [
    "x = -0.5      \n",
    "df = 1234\n",
    "nc_actual = 0.1234\n",
    "cdf_actual = sp.stats.nct.cdf(x, df, nc_actual)\n",
    "\n",
    "nct_solve_verbose(x, df, cdf_actual)"
   ]
  },
  {
   "cell_type": "code",
   "execution_count": 7,
   "id": "a9f4f61a-654d-4331-969d-39da2eb53687",
   "metadata": {},
   "outputs": [
    {
     "name": "stdout",
     "output_type": "stream",
     "text": [
      "-------------------------\n",
      "x:               20000.0\n",
      "nc_estimate:     -10.0\n",
      "cdf_actual:      1.0\n",
      "cdf_estimate:    1.0\n",
      "-------------------------\n"
     ]
    }
   ],
   "source": [
    "x = 20000.0      \n",
    "df = 1234\n",
    "nc_actual = 0.1234\n",
    "cdf_actual = sp.stats.nct.cdf(x, df, nc_actual)\n",
    "\n",
    "nct_solve_verbose(x, df, cdf_actual)"
   ]
  },
  {
   "cell_type": "code",
   "execution_count": 8,
   "id": "60195406-dab7-4129-bd55-0311098f1e58",
   "metadata": {},
   "outputs": [
    {
     "name": "stdout",
     "output_type": "stream",
     "text": [
      "-------------------------\n",
      "x:               -1.0313590120542573\n",
      "nc_estimate:     0.9301710006616564\n",
      "cdf_actual:      0.025000000000000022\n",
      "cdf_estimate:    0.024999999999999717\n",
      "-------------------------\n"
     ]
    }
   ],
   "source": [
    "x = -1.0313590120542573\n",
    "df = 497\n",
    "cdf_actual = 1-0.975\n",
    "\n",
    "nct_solve_verbose(x, df, cdf_actual)"
   ]
  },
  {
   "cell_type": "code",
   "execution_count": 9,
   "id": "b5b9eadc-ddee-4e6e-8210-35f09a5a0c76",
   "metadata": {},
   "outputs": [
    {
     "name": "stdout",
     "output_type": "stream",
     "text": [
      "-------------------------\n",
      "x:               -1.0313590120542573\n",
      "nc_estimate:     -2.991852752936132\n",
      "cdf_actual:      0.975\n",
      "cdf_estimate:    0.975\n",
      "-------------------------\n"
     ]
    }
   ],
   "source": [
    "x = -1.0313590120542573\n",
    "df = 497\n",
    "cdf_actual = 1-0.05/2\n",
    "\n",
    "nct_solve_verbose(x, df, cdf_actual)"
   ]
  }
 ],
 "metadata": {
  "kernelspec": {
   "display_name": "Python 3 (ipykernel)",
   "language": "python",
   "name": "python3"
  },
  "language_info": {
   "codemirror_mode": {
    "name": "ipython",
    "version": 3
   },
   "file_extension": ".py",
   "mimetype": "text/x-python",
   "name": "python",
   "nbconvert_exporter": "python",
   "pygments_lexer": "ipython3",
   "version": "3.12.9"
  }
 },
 "nbformat": 4,
 "nbformat_minor": 5
}
