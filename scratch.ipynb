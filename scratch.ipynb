{
 "cells": [
  {
   "cell_type": "code",
   "execution_count": 151,
   "id": "5e87b5ab-f91d-4c81-839c-de84498de361",
   "metadata": {},
   "outputs": [],
   "source": [
    "import numpy as np\n",
    "from scipy.stats import t\n",
    "from numpy.linalg import inv\n",
    "import random\n",
    "\n",
    "np.set_printoptions(suppress=True)"
   ]
  },
  {
   "cell_type": "code",
   "execution_count": 152,
   "id": "d225078b-bb2b-4cb3-848e-fedeca60880f",
   "metadata": {},
   "outputs": [],
   "source": [
    "def z_normalize(X, X_mean=None, X_std=None):\n",
    "    \"\"\"\n",
    "    Z-normalize the independent variables\n",
    "\n",
    "    Given:\n",
    "    -------------------\n",
    "    X : (k x n) array\n",
    "        The independent variables to z-normalize\n",
    "    X_mean : (k x 1) array | None\n",
    "        The means of the independent variables.  If None, they are estimated\n",
    "    X_std : (k x 1) array | None\n",
    "        The standard deviations of the independent variables.  If None, they are estimated\n",
    "        \n",
    "    Produce:\n",
    "    -------------------\n",
    "    Z_1 : (k+1 x n) array\n",
    "        The z-normalized independent variables, with a 1's vector appended\n",
    "    Z : (k x n) array\n",
    "        The z-normalized independent variables, without a 1's vector appended\n",
    "    X_mean: (k x 1) array\n",
    "        The means of the independent variables\n",
    "    X_std: (k x 1) array\n",
    "        The standard deviations of the independent variables.\n",
    "    \"\"\"\n",
    "    n = X.shape[1]\n",
    "    \n",
    "    if X_mean is None:\n",
    "        X_mean = np.mean(X)\n",
    "    if X_std is None:\n",
    "        X_std = np.std(X)\n",
    "    \n",
    "    Z = (X - X_mean)/X_std\n",
    "    Z_1 = np.vstack((Z, np.ones((1,n))))\n",
    "    \n",
    "    return Z_1, Z, X_mean, X_std"
   ]
  },
  {
   "cell_type": "code",
   "execution_count": 153,
   "id": "62066da6-cb62-453e-8084-a480568dcb71",
   "metadata": {},
   "outputs": [],
   "source": [
    "# Generate synthetic data\n",
    "#  - B: The actual model parameters; should be a 1xk array\n",
    "#  - n: The number of synthetic subjects to generate\n",
    "#  - k: The number of independent variables\n",
    "#  - S_YdotX: The standard deviation of the residual\n",
    "#  - X_range: The range of values for the ind vars, should be a 2-length tuple\n",
    "#  - X_are_ints: When generating ind vars for the subject, should they be ints or floats?\n",
    "\n",
    "def gen_synth_norm_data(B,n=100,S_YdotX=None,X_range=(0,10),X_are_ints=True):\n",
    "    '''\n",
    "    Generate synthetic normative data\n",
    "\n",
    "    Given:\n",
    "    -------------------\n",
    "    B : (m x k+1) array\n",
    "        The actual model parameters\n",
    "    n : int\n",
    "        The number of synthetic subjects to generate\n",
    "    S_YdotX : m-length 1d array\n",
    "        The standard deviation of the residual\n",
    "    X_range: 2-length tuple\n",
    "        The range of values for the ind vars\n",
    "    X_are_int: Boolean\n",
    "        If True, generated independent variables are Ints\n",
    "        If False, generated independent variables are Floats\n",
    "\n",
    "    Produce:\n",
    "    -------------------\n",
    "    X : A (k x n) array\n",
    "        The sythetically generated array of independent variables\n",
    "    Y : A (m x n) array\n",
    "        The dependent variables\n",
    "    epsilon : A (m x n) array\n",
    "        The residuals\n",
    "    '''\n",
    "\n",
    "    # The number of dep vars\n",
    "    m = B.shape[0]\n",
    "    # The number of ind vars\n",
    "    k = B.shape[1] - 1\n",
    "    \n",
    "    if X_are_ints:\n",
    "        X = np.random.randint(X_range[0], X_range[1], size=(k, n))\n",
    "    else:\n",
    "        X = np.random.uniform(X_range[0], X_range[1], size=(k, n))\n",
    "\n",
    "    if S_YdotX is None:\n",
    "        S_YdotX = np.tile(1.0, (m))\n",
    "    assert(S_YdotX.shape == (m,)) \n",
    "    \n",
    "    Z_1, _, _, _ = z_normalize(X)\n",
    "\n",
    "    scale_array = np.tile(S_YdotX_actual, (n,1)).T\n",
    "    epsilon = np.random.normal(loc=0, scale=scale_array, size=(m,n))\n",
    "    Y = B @ Z_1 + epsilon\n",
    "\n",
    "    return X, Y, epsilon"
   ]
  },
  {
   "cell_type": "code",
   "execution_count": 154,
   "id": "1c94c710-0856-40c7-b752-8fdc3f20447a",
   "metadata": {},
   "outputs": [],
   "source": [
    "def estimate_model_params(X,Y):\n",
    "    '''\n",
    "    Estimate model parameters from a normative set of independent and dependent variables\n",
    "\n",
    "    Given:\n",
    "    -------------------\n",
    "    X : A (k x n) array\n",
    "        The independent variables\n",
    "    Y : A (m x n) array\n",
    "        The dependent variables\n",
    "        \n",
    "    Produce:\n",
    "    -------------------\n",
    "    B_estimate: (m x k+1) array\n",
    "        The estimated model parameters\n",
    "    S_YdotX_estimate: (m,) array\n",
    "        The estimated standard deviation of the residual\n",
    "    R : (k x k) array\n",
    "        The inverse of the correlation matrix (R = (ZZ^T)^-1)\n",
    "    X_mean: (k x 1) array\n",
    "        The means of the independent variables\n",
    "    X_std: (k x 1) array\n",
    "        The standard deviations of the independent variables.\n",
    "    '''\n",
    "    Z_1, Z, X_mean, X_std = z_normalize(X)\n",
    "    R = inv(Z @ Z.T)\n",
    "    B_estimate = Y @ Z_1.T @ inv(Z_1 @ Z_1.T)\n",
    "    \n",
    "    Y_estimate = B_estimate @ Z_1\n",
    "    S_YdotX_estimate = np.std(Y - Y_estimate, axis=1)\n",
    "\n",
    "    return B_estimate, S_YdotX_estimate, R, X_mean, X_std"
   ]
  },
  {
   "cell_type": "code",
   "execution_count": 155,
   "id": "03a8555c-1a58-40a6-bc99-6636d7afe6de",
   "metadata": {},
   "outputs": [],
   "source": [
    "def gen_synth_sub_data(B, n, epsilon, X_range, X_mean, X_std, X_are_ints=True):\n",
    "    '''\n",
    "    Generate synthetic subject data, to be evaluated using model pramaters from normative data\n",
    "\n",
    "    Given:\n",
    "    -------------------\n",
    "    B: (m x k+1) array\n",
    "        The model parameters used to generate the independent vars\n",
    "    n : int\n",
    "        The number of synthetic subjects to generate\n",
    "    epsilon: float | (k x n) array\n",
    "        The residuals to use when generating data.  If epsilon is a single float, the same\n",
    "        resdual is used for all dependend variables and all subjects\n",
    "    X_range: 2-length tuple\n",
    "        The range of values for the ind vars\n",
    "    X_mean: (k x 1) array\n",
    "        The means of the independent variables from the normative set\n",
    "    X_std: (k x 1) array\n",
    "        The standard deviations of the independent variables from the normative set    \n",
    "    X_are_int: Boolean\n",
    "        If True, generated independent variables are Ints\n",
    "        If False, generated independent variables are Floats\n",
    "        \n",
    "    Produce:\n",
    "    -------------------\n",
    "    X : A (k x n) array\n",
    "        The sythetically generated array of independent variables\n",
    "    Y : A (m x n) array\n",
    "        The dependent variables\n",
    "    '''\n",
    "    # The number of dep vars\n",
    "    m = B.shape[0]\n",
    "    # The number of ind vars\n",
    "    k = B.shape[1] - 1\n",
    "\n",
    "    if isinstance(epsilon, float):\n",
    "        epsilon = np.tile(epsilon, (m,n))\n",
    "    assert(epsilon.shape == (m,n))\n",
    "\n",
    "    if X_are_ints:\n",
    "        X = np.random.randint(X_range[0], X_range[1], size=(k, n))\n",
    "    else:\n",
    "        X = np.random.uniform(X_range[0], X_range[1], size=(k, n))\n",
    "\n",
    "    Z_1, _, _, _= z_normalize(X, X_mean, X_std)\n",
    "    Y = B @ Z_1 + epsilon\n",
    "    \n",
    "    return X, Y"
   ]
  },
  {
   "cell_type": "code",
   "execution_count": 198,
   "id": "bf5af101-793c-4d64-a8c6-a6e06e20120c",
   "metadata": {},
   "outputs": [],
   "source": [
    "# Parameters for normative synthetic data generation\n",
    "\n",
    "# number of samples\n",
    "n = 1000\n",
    "# number of ind vars\n",
    "k = 3\n",
    "# number of dep vars\n",
    "m = 2\n",
    "# std_dev of noise\n",
    "#S_YdotX_actual = np.random.uniform(1.0, 2.0, size=(m))\n",
    "S_YdotX_actual = np.random.uniform(0.001, 0.001, size=(m))\n",
    "\n",
    "# B (model params) will be chosen randomly from this range\n",
    "B_range = (0, 21)\n",
    "B_actual = np.random.randint(B_range[0], B_range[1], size=(m, k+1))\n",
    "#B = np.random.uniform(B_range[0], B_range[1], size=(m, k+1))\n",
    "        \n",
    "# X (ind vars) will be chosen randomly from this range\n",
    "X_range = (1,6)\n",
    "X_are_ints = True"
   ]
  },
  {
   "cell_type": "code",
   "execution_count": 199,
   "id": "4b81f093-ff09-4a5f-a146-09c2876a4ebc",
   "metadata": {},
   "outputs": [],
   "source": [
    "# Generate synthetic normative dataset\n",
    "X, Y, epsilon_actual = gen_synth_norm_data(B_actual, n, S_YdotX_actual, X_range, X_are_ints=X_are_ints)\n",
    "\n",
    "# estimate model params from synthetic dataset\n",
    "B_estimate, S_YdotX_estimate, R, X_mean, X_std = estimate_model_params(X,Y)"
   ]
  },
  {
   "cell_type": "code",
   "execution_count": 200,
   "id": "31936ca7-68bf-4a66-8af2-fb4580de936a",
   "metadata": {},
   "outputs": [
    {
     "name": "stdout",
     "output_type": "stream",
     "text": [
      "B_actual:\n",
      "[[ 7  7 19 15]\n",
      " [ 4  8 12  2]]\n",
      "\n",
      "B_estimate\n",
      "[[ 7.00000358  6.99999972 19.00000897 15.00000529]\n",
      " [ 3.99998478  8.00002978 11.99998654  2.00000366]]\n",
      "\n",
      "S_YdotX_actual\n",
      "[0.001 0.001]\n",
      "\n",
      "S_YdotX_estimate\n",
      "[0.0009866  0.00103336]\n"
     ]
    }
   ],
   "source": [
    "print('B_actual:')\n",
    "print(B_actual)\n",
    "print()\n",
    "print('B_estimate')\n",
    "print(B_estimate)\n",
    "print()\n",
    "print('S_YdotX_actual')\n",
    "print(S_YdotX_actual)\n",
    "print()\n",
    "print('S_YdotX_estimate')\n",
    "print(S_YdotX_estimate)"
   ]
  },
  {
   "cell_type": "code",
   "execution_count": 201,
   "id": "d665cac9-7fb1-43fe-afa6-cec6fd800c25",
   "metadata": {},
   "outputs": [],
   "source": [
    "# Generate a single perfectly median subject\n",
    "x_obs, y_obs = gen_synth_sub_data(B_actual, 1, 0.0, X_range, X_mean, X_std, X_are_ints=X_are_ints)"
   ]
  },
  {
   "cell_type": "code",
   "execution_count": 202,
   "id": "f1ed9d30-0e2c-4704-aa5e-c621d75a8849",
   "metadata": {},
   "outputs": [
    {
     "name": "stdout",
     "output_type": "stream",
     "text": [
      "[[5]\n",
      " [2]\n",
      " [4]]\n",
      "[[33.61547693]\n",
      " [10.60220082]]\n",
      "[0.0009866  0.00103336]\n"
     ]
    }
   ],
   "source": [
    "print(x_obs)\n",
    "print(y_obs)\n",
    "print(S_YdotX_estimate)"
   ]
  },
  {
   "cell_type": "code",
   "execution_count": 207,
   "id": "eac98ce9-1720-4db3-8e17-dbcfbfb09ae3",
   "metadata": {},
   "outputs": [],
   "source": [
    "def single_subject_eval(x_obs, y_obs, B, R, S_YdotX, X_mean, X_std):\n",
    "    # z-normalize the subjects\n",
    "    z_obs1, z_obs, _, _ = z_normalize(x_obs, X_mean, X_std)\n",
    "    y_estimate = B @ z_obs1\n",
    "    \n",
    "    r_A = np.sum(np.diag(R) * (z_obs.T ** 2))\n",
    "    \n",
    "    # Computing r_B:\n",
    "    # ------------------\n",
    "    # the upper matrix elements, excluding the diagonal\n",
    "    #  - https://stackoverflow.com/a/47314816\n",
    "    # - we pass `k=1` to triu_indices() to exclude diagonal elements\n",
    "    uR_idx = np.triu_indices(R.shape[0], k=1)\n",
    "\n",
    "    # This is the r_{i,j} term of the equation for r_B\n",
    "    r_i_j = R[uR_idx[0],uR_idx[1]]\n",
    "    # This is the z_{obs,i} term of the equation for r_B\n",
    "    z_obs_i = z_obs[uR_idx[0]].T\n",
    "    # This is the z_{obs,j} term for the equation for r_B\n",
    "    z_obs_j = z_obs[uR_idx[1]].T\n",
    "\n",
    "    r_B = np.sum(r_i_j * z_obs_i * z_obs_j)\n",
    "\n",
    "    # Compute S_{N+1}\n",
    "    S_Nplus1 = S_YdotX * np.sqrt(1 + 1/n + 1/(n-1)*r_A + 2/(n-1)*r_B)\n",
    "    \n",
    "    # Compute the t-statistic\n",
    "    t_diff = (y_obs - y_estimate).T/S_Nplus1\n",
    "    \n",
    "    # Compute the percentile estimate, since this is a perfectly median subject,\n",
    "    # It should be ~0.5.  The larger n, the closer this should be to 0.5\n",
    "    p = t.cdf(x=t_diff, df=n-k)\n",
    "    print(f'p: {p}')"
   ]
  },
  {
   "cell_type": "code",
   "execution_count": 208,
   "id": "271fdf7f-b535-49f1-bb9d-5b71f0d4e575",
   "metadata": {},
   "outputs": [
    {
     "name": "stdout",
     "output_type": "stream",
     "text": [
      "p: [[0.49311925 0.51888627]]\n"
     ]
    }
   ],
   "source": [
    "single_subject_eval(x_obs, y_obs, B_estimate, R, S_YdotX_estimate, X_mean, X_std)\n",
    "\n"
   ]
  },
  {
   "cell_type": "markdown",
   "id": "f8fddd52-02a4-4498-a26e-5547a7616eb7",
   "metadata": {},
   "source": [
    "# -------------------------------------------------------"
   ]
  },
  {
   "cell_type": "code",
   "execution_count": 11,
   "id": "5f1cbfb2-0256-4552-a4ba-67ed408f6e3b",
   "metadata": {},
   "outputs": [],
   "source": [
    "\n",
    "    \n",
    "#def gen_synth_sub_data(B, n, epsilon, X_range, X_mean, X_std, X_are_ints=True):\n",
    "    \n",
    "\n",
    "# def gen_synth_sub_data(B, n, k, epsilon, X_range, X_mean, X_std, X_are_ints=True):\n",
    "#gen_synth_sub_data(B_actual, 1, k, [0.0], X_range, X_mean, X_std, X_are_ints=True)\n",
    "\n",
    "# very basic test data\n",
    "\n",
    "# number of samples\n",
    "n = 10\n",
    "# number of ind vars\n",
    "k = 3\n",
    "# number of dep vars\n",
    "m = 1\n",
    "# std_dev of noise\n",
    "S_YdotX_actual = 1.0\n",
    "# actual model params\n",
    "B_actual_min_range = 0\n",
    "B_actual_max_range = 21\n",
    "B_actual = np.random.randint(B_actual_min_range, B_actual_max_range , size=(m, k+1))\n",
    "\n",
    "# Z-normalize ind vars (X) and append a ones column for linear offests (Z_1)\n",
    "X_min_range = 1\n",
    "X_max_range = 6\n",
    "X = np.random.randint(X_min_range, X_max_range, size=(k, n))\n",
    "X_mean = np.mean(X)\n",
    "X_std = np.std(X)\n",
    "Z = (X - X_mean)/X_std\n",
    "Z_1 = np.vstack((Z, np.ones((1,n))))\n",
    "\n",
    "# Generate dep vars\n",
    "epsilon_actual = np.random.normal(loc=0, scale=S_YdotX_actual, size=(1,n))\n",
    "Y = B_actual @ Z_1 + epsilon_actual"
   ]
  },
  {
   "cell_type": "code",
   "execution_count": 33,
   "id": "699d1a8b-e571-48e4-8072-fabfa704ae10",
   "metadata": {
    "scrolled": true
   },
   "outputs": [
    {
     "name": "stdout",
     "output_type": "stream",
     "text": [
      "B_actual:\n",
      "[[ 4 20  1 17]]\n",
      "\n",
      "B_estimate:\n",
      "[[ 3.48204262 20.22701472  1.40512833 16.89608109]]\n",
      "\n",
      "S_YdotX_actual:   1.0\n",
      "S_YdotX_estimate: 1.0659957890883622\n"
     ]
    }
   ],
   "source": [
    "#---- \n",
    "# Estimate model parameters\n",
    "B_estimate = Y @ Z_1.T @ inv(Z_1 @ Z_1.T)\n",
    "R = inv(Z @ Z.T)\n",
    "Y_estimate = B_estimate @ Z_1\n",
    "S_YdotX_estimate = np.std(Y - Y_estimate)\n",
    "\n",
    "print('B_actual:')\n",
    "print(f'{B_actual}')\n",
    "print()\n",
    "print('B_estimate:')\n",
    "print(f'{B_estimate}')\n",
    "print()\n",
    "print(f'S_YdotX_actual:   {S_YdotX_actual}')\n",
    "print(f'S_YdotX_estimate: {S_YdotX_estimate}')"
   ]
  },
  {
   "cell_type": "code",
   "execution_count": 34,
   "id": "38b45324-8d7c-46a9-a4e1-b14d05dc19da",
   "metadata": {},
   "outputs": [
    {
     "name": "stdout",
     "output_type": "stream",
     "text": [
      "\n",
      "y_obs.T:          [[5.40020735]]\n",
      "y_estimate.T:     [[3.83077436]]\n"
     ]
    }
   ],
   "source": [
    "# ----\n",
    "# Generate a perfectly median subject:\n",
    "x_obs = np.random.randint(X_min_range, X_max_range, size=(k, 1))\n",
    "z_obs = (x_obs - X_mean)/X_std\n",
    "z_obs1 = np.vstack((z_obs, 1))\n",
    "\n",
    "# Compute the subjects 'actual' (observed) dep vars and estimated dep vars\n",
    "y_obs = B_actual @ z_obs1\n",
    "y_estimate = B_estimate @ z_obs1\n",
    "\n",
    "print()\n",
    "print(f'y_obs.T:          {y_obs.T}')\n",
    "print(f'y_estimate.T:     {y_estimate.T}')"
   ]
  },
  {
   "cell_type": "code",
   "execution_count": 31,
   "id": "c80e49c9-63ed-48a0-a963-a87e5dce2a7f",
   "metadata": {},
   "outputs": [
    {
     "ename": "NameError",
     "evalue": "name 'z_obs' is not defined",
     "output_type": "error",
     "traceback": [
      "\u001b[31m---------------------------------------------------------------------------\u001b[39m",
      "\u001b[31mNameError\u001b[39m                                 Traceback (most recent call last)",
      "\u001b[36mCell\u001b[39m\u001b[36m \u001b[39m\u001b[32mIn[31]\u001b[39m\u001b[32m, line 1\u001b[39m\n\u001b[32m----> \u001b[39m\u001b[32m1\u001b[39m r_A = np.sum(np.diag(R) * (\u001b[43mz_obs\u001b[49m.T ** \u001b[32m2\u001b[39m))\n\u001b[32m      3\u001b[39m \u001b[38;5;66;03m# Computing r_B:\u001b[39;00m\n\u001b[32m      4\u001b[39m \u001b[38;5;66;03m# ------------------\u001b[39;00m\n\u001b[32m      5\u001b[39m \u001b[38;5;66;03m# the upper matrix elements, excluding the diagonal\u001b[39;00m\n\u001b[32m      6\u001b[39m \u001b[38;5;66;03m#  - https://stackoverflow.com/a/47314816\u001b[39;00m\n\u001b[32m      7\u001b[39m \u001b[38;5;66;03m# - we pass `k=1` to triu_indices() to exclude diagonal elements\u001b[39;00m\n\u001b[32m      8\u001b[39m uR_idx = np.triu_indices(R.shape[\u001b[32m0\u001b[39m], k=\u001b[32m1\u001b[39m)\n",
      "\u001b[31mNameError\u001b[39m: name 'z_obs' is not defined"
     ]
    }
   ],
   "source": [
    "r_A = np.sum(np.diag(R) * (z_obs.T ** 2))\n",
    "\n",
    "# Computing r_B:\n",
    "# ------------------\n",
    "# the upper matrix elements, excluding the diagonal\n",
    "#  - https://stackoverflow.com/a/47314816\n",
    "# - we pass `k=1` to triu_indices() to exclude diagonal elements\n",
    "uR_idx = np.triu_indices(R.shape[0], k=1)\n",
    "\n",
    "# This is the r_{i,j} term of the equation for r_B\n",
    "r_i_j = R[uR_idx[0],uR_idx[1]]\n",
    "# This is the z_{obs,i} term of the equation for r_B\n",
    "z_obs_i = z_obs[uR_idx[0]].T\n",
    "# This is the z_{obs,j} term for the equation for r_B\n",
    "z_obs_j = z_obs[uR_idx[1]].T\n",
    "\n",
    "r_B = np.sum(r_i_j * z_obs_i * z_obs_j)\n",
    "\n",
    "# Compute S_{N+1}\n",
    "S_Nplus1 = S_YdotX_estimate * np.sqrt(1 + 1/n + 1/(n-1)*r_A + 2/(n-1)*r_B)\n",
    "\n",
    "# Compute the t-statistic\n",
    "t_diff = (y_obs - y_estimate)/S_Nplus1\n",
    "\n",
    "# Compute the percentile estimate, since this is a perfectly median subject,\n",
    "# It should be ~0.5.  The larger n, the closer this should be to 0.5\n",
    "p = t.cdf(x=t_diff, df=n-k)\n",
    "print(f'p: {p}')"
   ]
  },
  {
   "cell_type": "code",
   "execution_count": 60,
   "id": "cd7597f6-e436-4e70-95b4-73025be8b71f",
   "metadata": {},
   "outputs": [
    {
     "name": "stdout",
     "output_type": "stream",
     "text": [
      "[[ 0.01018605 -0.00197682 -0.00023317]\n",
      " [-0.00197682  0.01040471  0.00140284]\n",
      " [-0.00023317  0.00140284  0.0105513 ]]\n",
      "[[2]\n",
      " [3]\n",
      " [2]]\n",
      "[[-0.69340571]\n",
      " [-0.01136731]\n",
      " [-0.69340571]]\n",
      "[-0.00197682 -0.00023317  0.00140284]\n",
      "[[-0.69340571 -0.69340571 -0.01136731]]\n",
      "[[-0.01136731 -0.69340571 -0.69340571]]\n",
      "[0 0 1]\n",
      "[1 2 2]\n"
     ]
    }
   ],
   "source": [
    "print(R)\n",
    "print(x_obs)\n",
    "print(z_obs)\n",
    "print(r_i_j)\n",
    "print(z_obs_i)\n",
    "print(z_obs_j)\n",
    "print(uR_idx[0])\n",
    "print(uR_idx[1])"
   ]
  },
  {
   "cell_type": "code",
   "execution_count": 29,
   "id": "bfaf44bc-5717-4a63-b6d9-8131ee3cd5a2",
   "metadata": {},
   "outputs": [
    {
     "data": {
      "text/plain": [
       "array([1.64313830e-05, 3.63475799e-05, 2.49454122e-06])"
      ]
     },
     "execution_count": 29,
     "metadata": {},
     "output_type": "execute_result"
    }
   ],
   "source": [
    "r_i_j"
   ]
  },
  {
   "cell_type": "code",
   "execution_count": null,
   "id": "5833725a-e1b6-4b2b-8f77-6b0093f6cbc4",
   "metadata": {},
   "outputs": [],
   "source": []
  },
  {
   "cell_type": "code",
   "execution_count": 5,
   "id": "a9c7588d-e89b-4632-bf53-f24ef8eece9d",
   "metadata": {},
   "outputs": [],
   "source": [
    "off_d_R_idx = np.where(~np.eye(R.shape[0],dtype=bool))"
   ]
  },
  {
   "cell_type": "code",
   "execution_count": 6,
   "id": "cfb3672f-2569-4375-a22a-b2a75b185a1b",
   "metadata": {},
   "outputs": [
    {
     "data": {
      "text/plain": [
       "array([[False,  True,  True,  True,  True],\n",
       "       [ True, False,  True,  True,  True],\n",
       "       [ True,  True, False,  True,  True],\n",
       "       [ True,  True,  True, False,  True],\n",
       "       [ True,  True,  True,  True, False]])"
      ]
     },
     "execution_count": 6,
     "metadata": {},
     "output_type": "execute_result"
    }
   ],
   "source": [
    "~np.eye(R.shape[0],dtype=bool)"
   ]
  },
  {
   "cell_type": "code",
   "execution_count": 10,
   "id": "d80448cf-5587-4c76-b689-97090e6a78b5",
   "metadata": {},
   "outputs": [],
   "source": [
    "R_test = R.copy()"
   ]
  },
  {
   "cell_type": "code",
   "execution_count": 14,
   "id": "3ab237dd-14b9-4abc-b0ee-5a26b6e70137",
   "metadata": {},
   "outputs": [
    {
     "data": {
      "text/plain": [
       "(array([0, 0, 0, 0, 1, 1, 1, 2, 2, 3]), array([1, 2, 3, 4, 2, 3, 4, 3, 4, 4]))"
      ]
     },
     "execution_count": 14,
     "metadata": {},
     "output_type": "execute_result"
    }
   ],
   "source": []
  },
  {
   "cell_type": "code",
   "execution_count": 9,
   "id": "73972818-2fb0-408d-b853-610ebe286dd2",
   "metadata": {},
   "outputs": [
    {
     "data": {
      "text/plain": [
       "(array([0, 0, 0, 0, 1, 1, 1, 1, 2, 2, 2, 2, 3, 3, 3, 3, 4, 4, 4, 4]),\n",
       " array([1, 2, 3, 4, 0, 2, 3, 4, 0, 1, 3, 4, 0, 1, 2, 4, 0, 1, 2, 3]))"
      ]
     },
     "execution_count": 9,
     "metadata": {},
     "output_type": "execute_result"
    }
   ],
   "source": [
    "off_d_R_idx "
   ]
  },
  {
   "cell_type": "code",
   "execution_count": null,
   "id": "b59bf4b8-3c84-463c-b538-88783e185d6b",
   "metadata": {},
   "outputs": [],
   "source": []
  }
 ],
 "metadata": {
  "kernelspec": {
   "display_name": "Python 3 (ipykernel)",
   "language": "python",
   "name": "python3"
  },
  "language_info": {
   "codemirror_mode": {
    "name": "ipython",
    "version": 3
   },
   "file_extension": ".py",
   "mimetype": "text/x-python",
   "name": "python",
   "nbconvert_exporter": "python",
   "pygments_lexer": "ipython3",
   "version": "3.12.9"
  }
 },
 "nbformat": 4,
 "nbformat_minor": 5
}
