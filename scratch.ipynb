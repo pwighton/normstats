{
 "cells": [
  {
   "cell_type": "code",
   "execution_count": 35,
   "id": "5e87b5ab-f91d-4c81-839c-de84498de361",
   "metadata": {},
   "outputs": [],
   "source": [
    "import numpy as np\n",
    "from numpy.linalg import inv\n",
    "import random"
   ]
  },
  {
   "cell_type": "code",
   "execution_count": 75,
   "id": "3d590124-fa40-42ee-a7c2-6da62875f0be",
   "metadata": {},
   "outputs": [
    {
     "name": "stdout",
     "output_type": "stream",
     "text": [
      "B_actual:       [[ 2 10]]\n",
      "B_estimate:     [[ 2.03686526 10.11942296]]\n",
      "sigma_actual:   1.0\n",
      "sigma_estimate: 0.9636996285746852\n",
      "[[11.64092991]]\n",
      "[[11.49396917]]\n"
     ]
    }
   ],
   "source": [
    "# very basic test data\n",
    "\n",
    "# number of samples\n",
    "n = 100\n",
    "# number of ind vars\n",
    "k = 1\n",
    "# number of dep vars\n",
    "m = 1\n",
    "# std_dev of noise\n",
    "sigma_actual = 1.0\n",
    "# actual model params\n",
    "B_actual = np.array([[2,10]])\n",
    "\n",
    "# Z-normalize ind vars (X) and append a ones column for linear offests (Z_1)\n",
    "X = np.random.randint(1, 6, size=(k, n))\n",
    "X_mean = np.mean(X)\n",
    "X_std = np.std(X)\n",
    "Z = (X - X_mean)/X_std\n",
    "Z_1 = np.vstack((Z, np.ones((1,n))))\n",
    "\n",
    "# Generate dep vars\n",
    "epsilon_actual = np.random.normal(loc=0, scale=sigma_actual, size=(1,n))\n",
    "Y = B_actual @ Z_1 + epsilon_actual\n",
    "\n",
    "#---- \n",
    "# Estimate model parameters\n",
    "B_estimate = Y @ Z_1.T @ inv(Z_1 @ Z_1.T)\n",
    "R = inv(Z @ Z.T)\n",
    "Y_estimate = B_estimate @ Z_1\n",
    "sigma_estimate = np.std(Y - Y_estimate)\n",
    "\n",
    "print(f'B_actual:       {B_actual}')\n",
    "print(f'B_estimate:     {B_estimate}')\n",
    "print(f'sigma_actual:   {sigma_actual}')\n",
    "print(f'sigma_estimate: {sigma_estimate}')\n",
    "\n",
    "# ----\n",
    "# Generate a perfectly median subject:\n",
    "x_obs = np.random.randint(1, 6, size=(k, 1))\n",
    "z_obs = (x_obs - X_mean)/X_std\n",
    "z_obs1 = np.vstack((z_obs, 1))\n",
    "y_obs = B_actual @ z_obs1\n",
    "\n",
    "y_estimate = B_estimate @ z_obs1\n",
    "\n",
    "print(y_estimate)\n",
    "print(y_obs)"
   ]
  },
  {
   "cell_type": "code",
   "execution_count": 67,
   "id": "37ba9101-346b-4079-9344-67552f7f276a",
   "metadata": {},
   "outputs": [
    {
     "data": {
      "text/plain": [
       "(1, 2)"
      ]
     },
     "execution_count": 67,
     "metadata": {},
     "output_type": "execute_result"
    }
   ],
   "source": [
    "B_actual.shape"
   ]
  },
  {
   "cell_type": "code",
   "execution_count": 68,
   "id": "d62379c3-27e0-43ec-95a5-a725956bba21",
   "metadata": {},
   "outputs": [
    {
     "data": {
      "text/plain": [
       "(2, 100)"
      ]
     },
     "execution_count": 68,
     "metadata": {},
     "output_type": "execute_result"
    }
   ],
   "source": [
    "Z_1.shape"
   ]
  },
  {
   "cell_type": "code",
   "execution_count": 69,
   "id": "20223023-64d5-4a6e-8006-5c6086452854",
   "metadata": {},
   "outputs": [
    {
     "data": {
      "text/plain": [
       "(1, 100)"
      ]
     },
     "execution_count": 69,
     "metadata": {},
     "output_type": "execute_result"
    }
   ],
   "source": [
    "(B_actual @ Z_1).shape"
   ]
  },
  {
   "cell_type": "code",
   "execution_count": 70,
   "id": "133086b3-e746-4398-9d68-ca74b2e3a017",
   "metadata": {},
   "outputs": [
    {
     "data": {
      "text/plain": [
       "(1, 100)"
      ]
     },
     "execution_count": 70,
     "metadata": {},
     "output_type": "execute_result"
    }
   ],
   "source": [
    "epsilon_actual.shape"
   ]
  },
  {
   "cell_type": "code",
   "execution_count": null,
   "id": "f4ffe415-8897-410d-b09e-a55dd13ef96f",
   "metadata": {},
   "outputs": [],
   "source": []
  }
 ],
 "metadata": {
  "kernelspec": {
   "display_name": "Python 3 (ipykernel)",
   "language": "python",
   "name": "python3"
  },
  "language_info": {
   "codemirror_mode": {
    "name": "ipython",
    "version": 3
   },
   "file_extension": ".py",
   "mimetype": "text/x-python",
   "name": "python",
   "nbconvert_exporter": "python",
   "pygments_lexer": "ipython3",
   "version": "3.12.9"
  }
 },
 "nbformat": 4,
 "nbformat_minor": 5
}
