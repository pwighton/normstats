{
 "cells": [
  {
   "cell_type": "code",
   "execution_count": 3,
   "id": "5e87b5ab-f91d-4c81-839c-de84498de361",
   "metadata": {},
   "outputs": [],
   "source": [
    "import numpy as np\n",
    "from scipy.stats import t\n",
    "from numpy.linalg import inv\n",
    "import random"
   ]
  },
  {
   "cell_type": "code",
   "execution_count": 31,
   "id": "3d590124-fa40-42ee-a7c2-6da62875f0be",
   "metadata": {},
   "outputs": [],
   "source": [
    "# very basic test data\n",
    "\n",
    "# number of samples\n",
    "n = 10\n",
    "# number of ind vars\n",
    "k = 5\n",
    "# number of dep vars\n",
    "m = 1\n",
    "# std_dev of noise\n",
    "S_YdotX_actual = 1.0\n",
    "# actual model params\n",
    "B_actual_min_range = 0\n",
    "B_actual_max_range = 21\n",
    "B_actual = np.random.randint(B_actual_min_range, B_actual_max_range , size=(m, k+1))\n",
    "\n",
    "# Z-normalize ind vars (X) and append a ones column for linear offests (Z_1)\n",
    "X_min_range = 1\n",
    "X_max_range = 6\n",
    "X = np.random.randint(X_min_range, X_max_range, size=(k, n))\n",
    "X_mean = np.mean(X)\n",
    "X_std = np.std(X)\n",
    "Z = (X - X_mean)/X_std\n",
    "Z_1 = np.vstack((Z, np.ones((1,n))))\n",
    "\n",
    "# Generate dep vars\n",
    "epsilon_actual = np.random.normal(loc=0, scale=S_YdotX_actual, size=(1,n))\n",
    "Y = B_actual @ Z_1 + epsilon_actual"
   ]
  },
  {
   "cell_type": "code",
   "execution_count": 32,
   "id": "699d1a8b-e571-48e4-8072-fabfa704ae10",
   "metadata": {
    "scrolled": true
   },
   "outputs": [
    {
     "name": "stdout",
     "output_type": "stream",
     "text": [
      "B_actual:\n",
      "[[ 8  7  5  7  2 13]]\n",
      "\n",
      "B_estimate:\n",
      "[[ 7.3894599   7.20620064  5.49532874  6.89002528  1.50375164 13.23893752]]\n",
      "\n",
      "S_YdotX_actual:   1.0\n",
      "S_YdotX_estimate: 0.8070111055366468\n"
     ]
    }
   ],
   "source": [
    "#---- \n",
    "# Estimate model parameters\n",
    "B_estimate = Y @ Z_1.T @ inv(Z_1 @ Z_1.T)\n",
    "R = inv(Z @ Z.T)\n",
    "Y_estimate = B_estimate @ Z_1\n",
    "S_YdotX_estimate = np.std(Y - Y_estimate)\n",
    "\n",
    "print('B_actual:')\n",
    "print(f'{B_actual}')\n",
    "print()\n",
    "print('B_estimate:')\n",
    "print(f'{B_estimate}')\n",
    "print()\n",
    "print(f'S_YdotX_actual:   {S_YdotX_actual}')\n",
    "print(f'S_YdotX_estimate: {S_YdotX_estimate}')"
   ]
  },
  {
   "cell_type": "code",
   "execution_count": 33,
   "id": "38b45324-8d7c-46a9-a4e1-b14d05dc19da",
   "metadata": {},
   "outputs": [
    {
     "name": "stdout",
     "output_type": "stream",
     "text": [
      "\n",
      "y_obs.T:          [[17.53149094]]\n",
      "y_estimate.T:     [[17.58906588]]\n",
      "p: [[0.47441784]]\n"
     ]
    }
   ],
   "source": [
    "# ----\n",
    "# Generate a perfectly median subject:\n",
    "x_obs = np.random.randint(X_min_range, X_max_range, size=(k, 1))\n",
    "z_obs = (x_obs - X_mean)/X_std\n",
    "z_obs1 = np.vstack((z_obs, 1))\n",
    "\n",
    "# Compute the subjects 'actual' (observed) dep vars and estimated dep vars\n",
    "y_obs = B_actual @ z_obs1\n",
    "y_estimate = B_estimate @ z_obs1\n",
    "\n",
    "print()\n",
    "print(f'y_obs.T:          {y_obs.T}')\n",
    "print(f'y_estimate.T:     {y_estimate.T}')\n",
    "\n",
    "r_A = np.sum(np.diag(R) * (z_obs.T ** 2))\n",
    "\n",
    "# Computing r_B:\n",
    "# ------------------\n",
    "# the off diagonal indices into R\n",
    "# https://stackoverflow.com/a/35746928\n",
    "off_d_R_idx = np.where(~np.eye(R.shape[0],dtype=bool))\n",
    "\n",
    "# We divide by 2, because we only iterate over half (i.e. upper) of the off-diagonal elements\n",
    "off_d_R_idx_len = int(off_d_R_idx[0].shape[0]/2)\n",
    "\n",
    "# This is the r_{i,j} term of the equation for r_B\n",
    "r_i_j = R[off_d_R_idx[0][0:off_d_R_idx_len],off_d_R_idx[1][0:off_d_R_idx_len]]\n",
    "# This is the z_{obs,i} term of the equation for r_B\n",
    "z_obs_i = z_obs[off_d_R_idx[0][0:off_d_R_idx_len]].T\n",
    "# This is the z_{obs,j} term for the equation for r_B\n",
    "z_obs_j = z_obs[off_d_R_idx[1][0:off_d_R_idx_len]].T\n",
    "\n",
    "r_B = np.sum(r_i_j * z_obs_i * z_obs_j)\n",
    "\n",
    "# Compute S_{N+1}\n",
    "S_Nplus1 = S_YdotX_estimate * np.sqrt(1 + 1/n + 1/(n-1)*r_A + 2/(n-1)*r_B)\n",
    "\n",
    "t_diff = (y_obs - y_estimate)/S_Nplus1\n",
    "p = t.cdf(x=t_diff, df=n-k)\n",
    "print(f'p: {p}')"
   ]
  },
  {
   "cell_type": "code",
   "execution_count": 34,
   "id": "998d6c8e-9cbd-45c9-80f4-1a87b58ec078",
   "metadata": {},
   "outputs": [
    {
     "name": "stdout",
     "output_type": "stream",
     "text": [
      "0.8535624168829047\n"
     ]
    }
   ],
   "source": [
    "print(S_Nplus1)"
   ]
  },
  {
   "cell_type": "code",
   "execution_count": 35,
   "id": "9e91a8c6-a5a6-409c-a09d-a9569c986ce7",
   "metadata": {},
   "outputs": [
    {
     "name": "stdout",
     "output_type": "stream",
     "text": [
      "[[-0.06745253]]\n"
     ]
    }
   ],
   "source": [
    "print(t_diff)"
   ]
  },
  {
   "cell_type": "code",
   "execution_count": 36,
   "id": "4239bd7d-605b-44ee-b863-82f74d11bc44",
   "metadata": {},
   "outputs": [
    {
     "name": "stdout",
     "output_type": "stream",
     "text": [
      "[[17.53149094]]\n"
     ]
    }
   ],
   "source": [
    "print(y_obs)"
   ]
  },
  {
   "cell_type": "code",
   "execution_count": 37,
   "id": "a8e5240d-19e3-472f-94fc-f40e630feaca",
   "metadata": {},
   "outputs": [
    {
     "name": "stdout",
     "output_type": "stream",
     "text": [
      "[[17.58906588]]\n"
     ]
    }
   ],
   "source": [
    "print(y_estimate)"
   ]
  },
  {
   "cell_type": "code",
   "execution_count": null,
   "id": "a9c7588d-e89b-4632-bf53-f24ef8eece9d",
   "metadata": {},
   "outputs": [],
   "source": []
  },
  {
   "cell_type": "code",
   "execution_count": null,
   "id": "cfb3672f-2569-4375-a22a-b2a75b185a1b",
   "metadata": {},
   "outputs": [],
   "source": []
  }
 ],
 "metadata": {
  "kernelspec": {
   "display_name": "Python 3 (ipykernel)",
   "language": "python",
   "name": "python3"
  },
  "language_info": {
   "codemirror_mode": {
    "name": "ipython",
    "version": 3
   },
   "file_extension": ".py",
   "mimetype": "text/x-python",
   "name": "python",
   "nbconvert_exporter": "python",
   "pygments_lexer": "ipython3",
   "version": "3.12.9"
  }
 },
 "nbformat": 4,
 "nbformat_minor": 5
}
